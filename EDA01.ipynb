{
  "nbformat": 4,
  "nbformat_minor": 0,
  "metadata": {
    "kernelspec": {
      "display_name": "Python 3",
      "language": "python",
      "name": "python3"
    },
    "language_info": {
      "codemirror_mode": {
        "name": "ipython",
        "version": 3
      },
      "file_extension": ".py",
      "mimetype": "text/x-python",
      "name": "python",
      "nbconvert_exporter": "python",
      "pygments_lexer": "ipython3",
      "version": "3.7.5"
    },
    "colab": {
      "name": "EDA01.ipynb",
      "provenance": [],
      "collapsed_sections": [
        "hXNaW_XwxQQH"
      ],
      "machine_shape": "hm"
    }
  },
  "cells": [
    {
      "cell_type": "code",
      "metadata": {
        "id": "okBPxLGH64sq",
        "colab_type": "code",
        "colab": {
          "base_uri": "https://localhost:8080/",
          "height": 34
        },
        "outputId": "0b7c49f0-6bc3-42c1-b3b0-1aed38ab33ab"
      },
      "source": [
        "from google.colab import drive\n",
        "drive.mount('/content/gdrive')"
      ],
      "execution_count": 41,
      "outputs": [
        {
          "output_type": "stream",
          "text": [
            "Drive already mounted at /content/gdrive; to attempt to forcibly remount, call drive.mount(\"/content/gdrive\", force_remount=True).\n"
          ],
          "name": "stdout"
        }
      ]
    },
    {
      "cell_type": "code",
      "metadata": {
        "id": "zZXNBj1M7I-V",
        "colab_type": "code",
        "colab": {
          "base_uri": "https://localhost:8080/",
          "height": 34
        },
        "outputId": "8c84bf2e-be5b-40bb-87f8-3375fc81015e"
      },
      "source": [
        "%cd /content/gdrive/My Drive/Elianna/HousePrice_Kaggle/Kaggle-House-Price-ML"
      ],
      "execution_count": 3,
      "outputs": [
        {
          "output_type": "stream",
          "text": [
            "/content/gdrive/My Drive/Elianna/HousePrice_Kaggle/Kaggle-House-Price-ML\n"
          ],
          "name": "stdout"
        }
      ]
    },
    {
      "cell_type": "code",
      "metadata": {
        "id": "AXB_RFlDxQO2",
        "colab_type": "code",
        "colab": {}
      },
      "source": [
        "#libraries we need\n",
        "import pandas as pd\n",
        "import numpy as np\n",
        "import seaborn as sns\n",
        "import matplotlib.pyplot as plt\n",
        "from datetime import datetime\n",
        "from datetime import date\n",
        "pd.options.mode.chained_assignment = None"
      ],
      "execution_count": 111,
      "outputs": []
    },
    {
      "cell_type": "code",
      "metadata": {
        "id": "aLul8mINxQO6",
        "colab_type": "code",
        "colab": {}
      },
      "source": [
        "train = pd.read_csv('./house-prices-data/train.csv') \n",
        "test = pd.read_csv('./house-prices-data/test.csv')"
      ],
      "execution_count": 113,
      "outputs": []
    },
    {
      "cell_type": "code",
      "metadata": {
        "id": "E6Rty8nGxQO8",
        "colab_type": "code",
        "colab": {}
      },
      "source": [
        "# Drop the id column\n",
        "train.drop(['Id'],axis=1, inplace=True)\n",
        "test.drop(['Id'],axis=1, inplace=True)"
      ],
      "execution_count": 114,
      "outputs": []
    },
    {
      "cell_type": "code",
      "metadata": {
        "id": "dNb5HylVNY8a",
        "colab_type": "code",
        "colab": {
          "base_uri": "https://localhost:8080/",
          "height": 51
        },
        "outputId": "f8d8da4a-a75f-4fce-d7e7-f506dec7c3b8"
      },
      "source": [
        "print('The shape of train data is {}'.format(train.shape))\n",
        "print('The shape of test data is {}'.format(test.shape))"
      ],
      "execution_count": 115,
      "outputs": [
        {
          "output_type": "stream",
          "text": [
            "The shape of train data is (1460, 80)\n",
            "The shape of test data is (1459, 79)\n"
          ],
          "name": "stdout"
        }
      ]
    },
    {
      "cell_type": "code",
      "metadata": {
        "id": "In_ic8JFxQO_",
        "colab_type": "code",
        "colab": {}
      },
      "source": [
        "full = train.append(test, ignore_index=True)"
      ],
      "execution_count": 116,
      "outputs": []
    },
    {
      "cell_type": "code",
      "metadata": {
        "id": "QEEw-NBENX8Q",
        "colab_type": "code",
        "colab": {
          "base_uri": "https://localhost:8080/",
          "height": 34
        },
        "outputId": "e6fc2eef-4817-4bf1-a572-249fb39c9bcd"
      },
      "source": [
        "print('The shape of full data is {}'.format(full.shape))"
      ],
      "execution_count": 117,
      "outputs": [
        {
          "output_type": "stream",
          "text": [
            "The shape of full data is (2919, 80)\n"
          ],
          "name": "stdout"
        }
      ]
    },
    {
      "cell_type": "code",
      "metadata": {
        "id": "c7gbgcC9xQPG",
        "colab_type": "code",
        "colab": {
          "base_uri": "https://localhost:8080/",
          "height": 224
        },
        "outputId": "a50010e4-94fa-471d-d5f9-88fe27ed33d2"
      },
      "source": [
        "full.head()"
      ],
      "execution_count": 118,
      "outputs": [
        {
          "output_type": "execute_result",
          "data": {
            "text/html": [
              "<div>\n",
              "<style scoped>\n",
              "    .dataframe tbody tr th:only-of-type {\n",
              "        vertical-align: middle;\n",
              "    }\n",
              "\n",
              "    .dataframe tbody tr th {\n",
              "        vertical-align: top;\n",
              "    }\n",
              "\n",
              "    .dataframe thead th {\n",
              "        text-align: right;\n",
              "    }\n",
              "</style>\n",
              "<table border=\"1\" class=\"dataframe\">\n",
              "  <thead>\n",
              "    <tr style=\"text-align: right;\">\n",
              "      <th></th>\n",
              "      <th>MSSubClass</th>\n",
              "      <th>MSZoning</th>\n",
              "      <th>LotFrontage</th>\n",
              "      <th>LotArea</th>\n",
              "      <th>Street</th>\n",
              "      <th>Alley</th>\n",
              "      <th>LotShape</th>\n",
              "      <th>LandContour</th>\n",
              "      <th>Utilities</th>\n",
              "      <th>LotConfig</th>\n",
              "      <th>LandSlope</th>\n",
              "      <th>Neighborhood</th>\n",
              "      <th>Condition1</th>\n",
              "      <th>Condition2</th>\n",
              "      <th>BldgType</th>\n",
              "      <th>HouseStyle</th>\n",
              "      <th>OverallQual</th>\n",
              "      <th>OverallCond</th>\n",
              "      <th>YearBuilt</th>\n",
              "      <th>YearRemodAdd</th>\n",
              "      <th>RoofStyle</th>\n",
              "      <th>RoofMatl</th>\n",
              "      <th>Exterior1st</th>\n",
              "      <th>Exterior2nd</th>\n",
              "      <th>MasVnrType</th>\n",
              "      <th>MasVnrArea</th>\n",
              "      <th>ExterQual</th>\n",
              "      <th>ExterCond</th>\n",
              "      <th>Foundation</th>\n",
              "      <th>BsmtQual</th>\n",
              "      <th>BsmtCond</th>\n",
              "      <th>BsmtExposure</th>\n",
              "      <th>BsmtFinType1</th>\n",
              "      <th>BsmtFinSF1</th>\n",
              "      <th>BsmtFinType2</th>\n",
              "      <th>BsmtFinSF2</th>\n",
              "      <th>BsmtUnfSF</th>\n",
              "      <th>TotalBsmtSF</th>\n",
              "      <th>Heating</th>\n",
              "      <th>HeatingQC</th>\n",
              "      <th>CentralAir</th>\n",
              "      <th>Electrical</th>\n",
              "      <th>1stFlrSF</th>\n",
              "      <th>2ndFlrSF</th>\n",
              "      <th>LowQualFinSF</th>\n",
              "      <th>GrLivArea</th>\n",
              "      <th>BsmtFullBath</th>\n",
              "      <th>BsmtHalfBath</th>\n",
              "      <th>FullBath</th>\n",
              "      <th>HalfBath</th>\n",
              "      <th>BedroomAbvGr</th>\n",
              "      <th>KitchenAbvGr</th>\n",
              "      <th>KitchenQual</th>\n",
              "      <th>TotRmsAbvGrd</th>\n",
              "      <th>Functional</th>\n",
              "      <th>Fireplaces</th>\n",
              "      <th>FireplaceQu</th>\n",
              "      <th>GarageType</th>\n",
              "      <th>GarageYrBlt</th>\n",
              "      <th>GarageFinish</th>\n",
              "      <th>GarageCars</th>\n",
              "      <th>GarageArea</th>\n",
              "      <th>GarageQual</th>\n",
              "      <th>GarageCond</th>\n",
              "      <th>PavedDrive</th>\n",
              "      <th>WoodDeckSF</th>\n",
              "      <th>OpenPorchSF</th>\n",
              "      <th>EnclosedPorch</th>\n",
              "      <th>3SsnPorch</th>\n",
              "      <th>ScreenPorch</th>\n",
              "      <th>PoolArea</th>\n",
              "      <th>PoolQC</th>\n",
              "      <th>Fence</th>\n",
              "      <th>MiscFeature</th>\n",
              "      <th>MiscVal</th>\n",
              "      <th>MoSold</th>\n",
              "      <th>YrSold</th>\n",
              "      <th>SaleType</th>\n",
              "      <th>SaleCondition</th>\n",
              "      <th>SalePrice</th>\n",
              "    </tr>\n",
              "  </thead>\n",
              "  <tbody>\n",
              "    <tr>\n",
              "      <th>0</th>\n",
              "      <td>60</td>\n",
              "      <td>RL</td>\n",
              "      <td>65.0</td>\n",
              "      <td>8450</td>\n",
              "      <td>Pave</td>\n",
              "      <td>NaN</td>\n",
              "      <td>Reg</td>\n",
              "      <td>Lvl</td>\n",
              "      <td>AllPub</td>\n",
              "      <td>Inside</td>\n",
              "      <td>Gtl</td>\n",
              "      <td>CollgCr</td>\n",
              "      <td>Norm</td>\n",
              "      <td>Norm</td>\n",
              "      <td>1Fam</td>\n",
              "      <td>2Story</td>\n",
              "      <td>7</td>\n",
              "      <td>5</td>\n",
              "      <td>2003</td>\n",
              "      <td>2003</td>\n",
              "      <td>Gable</td>\n",
              "      <td>CompShg</td>\n",
              "      <td>VinylSd</td>\n",
              "      <td>VinylSd</td>\n",
              "      <td>BrkFace</td>\n",
              "      <td>196.0</td>\n",
              "      <td>Gd</td>\n",
              "      <td>TA</td>\n",
              "      <td>PConc</td>\n",
              "      <td>Gd</td>\n",
              "      <td>TA</td>\n",
              "      <td>No</td>\n",
              "      <td>GLQ</td>\n",
              "      <td>706.0</td>\n",
              "      <td>Unf</td>\n",
              "      <td>0.0</td>\n",
              "      <td>150.0</td>\n",
              "      <td>856.0</td>\n",
              "      <td>GasA</td>\n",
              "      <td>Ex</td>\n",
              "      <td>Y</td>\n",
              "      <td>SBrkr</td>\n",
              "      <td>856</td>\n",
              "      <td>854</td>\n",
              "      <td>0</td>\n",
              "      <td>1710</td>\n",
              "      <td>1.0</td>\n",
              "      <td>0.0</td>\n",
              "      <td>2</td>\n",
              "      <td>1</td>\n",
              "      <td>3</td>\n",
              "      <td>1</td>\n",
              "      <td>Gd</td>\n",
              "      <td>8</td>\n",
              "      <td>Typ</td>\n",
              "      <td>0</td>\n",
              "      <td>NaN</td>\n",
              "      <td>Attchd</td>\n",
              "      <td>2003.0</td>\n",
              "      <td>RFn</td>\n",
              "      <td>2.0</td>\n",
              "      <td>548.0</td>\n",
              "      <td>TA</td>\n",
              "      <td>TA</td>\n",
              "      <td>Y</td>\n",
              "      <td>0</td>\n",
              "      <td>61</td>\n",
              "      <td>0</td>\n",
              "      <td>0</td>\n",
              "      <td>0</td>\n",
              "      <td>0</td>\n",
              "      <td>NaN</td>\n",
              "      <td>NaN</td>\n",
              "      <td>NaN</td>\n",
              "      <td>0</td>\n",
              "      <td>2</td>\n",
              "      <td>2008</td>\n",
              "      <td>WD</td>\n",
              "      <td>Normal</td>\n",
              "      <td>208500.0</td>\n",
              "    </tr>\n",
              "    <tr>\n",
              "      <th>1</th>\n",
              "      <td>20</td>\n",
              "      <td>RL</td>\n",
              "      <td>80.0</td>\n",
              "      <td>9600</td>\n",
              "      <td>Pave</td>\n",
              "      <td>NaN</td>\n",
              "      <td>Reg</td>\n",
              "      <td>Lvl</td>\n",
              "      <td>AllPub</td>\n",
              "      <td>FR2</td>\n",
              "      <td>Gtl</td>\n",
              "      <td>Veenker</td>\n",
              "      <td>Feedr</td>\n",
              "      <td>Norm</td>\n",
              "      <td>1Fam</td>\n",
              "      <td>1Story</td>\n",
              "      <td>6</td>\n",
              "      <td>8</td>\n",
              "      <td>1976</td>\n",
              "      <td>1976</td>\n",
              "      <td>Gable</td>\n",
              "      <td>CompShg</td>\n",
              "      <td>MetalSd</td>\n",
              "      <td>MetalSd</td>\n",
              "      <td>None</td>\n",
              "      <td>0.0</td>\n",
              "      <td>TA</td>\n",
              "      <td>TA</td>\n",
              "      <td>CBlock</td>\n",
              "      <td>Gd</td>\n",
              "      <td>TA</td>\n",
              "      <td>Gd</td>\n",
              "      <td>ALQ</td>\n",
              "      <td>978.0</td>\n",
              "      <td>Unf</td>\n",
              "      <td>0.0</td>\n",
              "      <td>284.0</td>\n",
              "      <td>1262.0</td>\n",
              "      <td>GasA</td>\n",
              "      <td>Ex</td>\n",
              "      <td>Y</td>\n",
              "      <td>SBrkr</td>\n",
              "      <td>1262</td>\n",
              "      <td>0</td>\n",
              "      <td>0</td>\n",
              "      <td>1262</td>\n",
              "      <td>0.0</td>\n",
              "      <td>1.0</td>\n",
              "      <td>2</td>\n",
              "      <td>0</td>\n",
              "      <td>3</td>\n",
              "      <td>1</td>\n",
              "      <td>TA</td>\n",
              "      <td>6</td>\n",
              "      <td>Typ</td>\n",
              "      <td>1</td>\n",
              "      <td>TA</td>\n",
              "      <td>Attchd</td>\n",
              "      <td>1976.0</td>\n",
              "      <td>RFn</td>\n",
              "      <td>2.0</td>\n",
              "      <td>460.0</td>\n",
              "      <td>TA</td>\n",
              "      <td>TA</td>\n",
              "      <td>Y</td>\n",
              "      <td>298</td>\n",
              "      <td>0</td>\n",
              "      <td>0</td>\n",
              "      <td>0</td>\n",
              "      <td>0</td>\n",
              "      <td>0</td>\n",
              "      <td>NaN</td>\n",
              "      <td>NaN</td>\n",
              "      <td>NaN</td>\n",
              "      <td>0</td>\n",
              "      <td>5</td>\n",
              "      <td>2007</td>\n",
              "      <td>WD</td>\n",
              "      <td>Normal</td>\n",
              "      <td>181500.0</td>\n",
              "    </tr>\n",
              "    <tr>\n",
              "      <th>2</th>\n",
              "      <td>60</td>\n",
              "      <td>RL</td>\n",
              "      <td>68.0</td>\n",
              "      <td>11250</td>\n",
              "      <td>Pave</td>\n",
              "      <td>NaN</td>\n",
              "      <td>IR1</td>\n",
              "      <td>Lvl</td>\n",
              "      <td>AllPub</td>\n",
              "      <td>Inside</td>\n",
              "      <td>Gtl</td>\n",
              "      <td>CollgCr</td>\n",
              "      <td>Norm</td>\n",
              "      <td>Norm</td>\n",
              "      <td>1Fam</td>\n",
              "      <td>2Story</td>\n",
              "      <td>7</td>\n",
              "      <td>5</td>\n",
              "      <td>2001</td>\n",
              "      <td>2002</td>\n",
              "      <td>Gable</td>\n",
              "      <td>CompShg</td>\n",
              "      <td>VinylSd</td>\n",
              "      <td>VinylSd</td>\n",
              "      <td>BrkFace</td>\n",
              "      <td>162.0</td>\n",
              "      <td>Gd</td>\n",
              "      <td>TA</td>\n",
              "      <td>PConc</td>\n",
              "      <td>Gd</td>\n",
              "      <td>TA</td>\n",
              "      <td>Mn</td>\n",
              "      <td>GLQ</td>\n",
              "      <td>486.0</td>\n",
              "      <td>Unf</td>\n",
              "      <td>0.0</td>\n",
              "      <td>434.0</td>\n",
              "      <td>920.0</td>\n",
              "      <td>GasA</td>\n",
              "      <td>Ex</td>\n",
              "      <td>Y</td>\n",
              "      <td>SBrkr</td>\n",
              "      <td>920</td>\n",
              "      <td>866</td>\n",
              "      <td>0</td>\n",
              "      <td>1786</td>\n",
              "      <td>1.0</td>\n",
              "      <td>0.0</td>\n",
              "      <td>2</td>\n",
              "      <td>1</td>\n",
              "      <td>3</td>\n",
              "      <td>1</td>\n",
              "      <td>Gd</td>\n",
              "      <td>6</td>\n",
              "      <td>Typ</td>\n",
              "      <td>1</td>\n",
              "      <td>TA</td>\n",
              "      <td>Attchd</td>\n",
              "      <td>2001.0</td>\n",
              "      <td>RFn</td>\n",
              "      <td>2.0</td>\n",
              "      <td>608.0</td>\n",
              "      <td>TA</td>\n",
              "      <td>TA</td>\n",
              "      <td>Y</td>\n",
              "      <td>0</td>\n",
              "      <td>42</td>\n",
              "      <td>0</td>\n",
              "      <td>0</td>\n",
              "      <td>0</td>\n",
              "      <td>0</td>\n",
              "      <td>NaN</td>\n",
              "      <td>NaN</td>\n",
              "      <td>NaN</td>\n",
              "      <td>0</td>\n",
              "      <td>9</td>\n",
              "      <td>2008</td>\n",
              "      <td>WD</td>\n",
              "      <td>Normal</td>\n",
              "      <td>223500.0</td>\n",
              "    </tr>\n",
              "    <tr>\n",
              "      <th>3</th>\n",
              "      <td>70</td>\n",
              "      <td>RL</td>\n",
              "      <td>60.0</td>\n",
              "      <td>9550</td>\n",
              "      <td>Pave</td>\n",
              "      <td>NaN</td>\n",
              "      <td>IR1</td>\n",
              "      <td>Lvl</td>\n",
              "      <td>AllPub</td>\n",
              "      <td>Corner</td>\n",
              "      <td>Gtl</td>\n",
              "      <td>Crawfor</td>\n",
              "      <td>Norm</td>\n",
              "      <td>Norm</td>\n",
              "      <td>1Fam</td>\n",
              "      <td>2Story</td>\n",
              "      <td>7</td>\n",
              "      <td>5</td>\n",
              "      <td>1915</td>\n",
              "      <td>1970</td>\n",
              "      <td>Gable</td>\n",
              "      <td>CompShg</td>\n",
              "      <td>Wd Sdng</td>\n",
              "      <td>Wd Shng</td>\n",
              "      <td>None</td>\n",
              "      <td>0.0</td>\n",
              "      <td>TA</td>\n",
              "      <td>TA</td>\n",
              "      <td>BrkTil</td>\n",
              "      <td>TA</td>\n",
              "      <td>Gd</td>\n",
              "      <td>No</td>\n",
              "      <td>ALQ</td>\n",
              "      <td>216.0</td>\n",
              "      <td>Unf</td>\n",
              "      <td>0.0</td>\n",
              "      <td>540.0</td>\n",
              "      <td>756.0</td>\n",
              "      <td>GasA</td>\n",
              "      <td>Gd</td>\n",
              "      <td>Y</td>\n",
              "      <td>SBrkr</td>\n",
              "      <td>961</td>\n",
              "      <td>756</td>\n",
              "      <td>0</td>\n",
              "      <td>1717</td>\n",
              "      <td>1.0</td>\n",
              "      <td>0.0</td>\n",
              "      <td>1</td>\n",
              "      <td>0</td>\n",
              "      <td>3</td>\n",
              "      <td>1</td>\n",
              "      <td>Gd</td>\n",
              "      <td>7</td>\n",
              "      <td>Typ</td>\n",
              "      <td>1</td>\n",
              "      <td>Gd</td>\n",
              "      <td>Detchd</td>\n",
              "      <td>1998.0</td>\n",
              "      <td>Unf</td>\n",
              "      <td>3.0</td>\n",
              "      <td>642.0</td>\n",
              "      <td>TA</td>\n",
              "      <td>TA</td>\n",
              "      <td>Y</td>\n",
              "      <td>0</td>\n",
              "      <td>35</td>\n",
              "      <td>272</td>\n",
              "      <td>0</td>\n",
              "      <td>0</td>\n",
              "      <td>0</td>\n",
              "      <td>NaN</td>\n",
              "      <td>NaN</td>\n",
              "      <td>NaN</td>\n",
              "      <td>0</td>\n",
              "      <td>2</td>\n",
              "      <td>2006</td>\n",
              "      <td>WD</td>\n",
              "      <td>Abnorml</td>\n",
              "      <td>140000.0</td>\n",
              "    </tr>\n",
              "    <tr>\n",
              "      <th>4</th>\n",
              "      <td>60</td>\n",
              "      <td>RL</td>\n",
              "      <td>84.0</td>\n",
              "      <td>14260</td>\n",
              "      <td>Pave</td>\n",
              "      <td>NaN</td>\n",
              "      <td>IR1</td>\n",
              "      <td>Lvl</td>\n",
              "      <td>AllPub</td>\n",
              "      <td>FR2</td>\n",
              "      <td>Gtl</td>\n",
              "      <td>NoRidge</td>\n",
              "      <td>Norm</td>\n",
              "      <td>Norm</td>\n",
              "      <td>1Fam</td>\n",
              "      <td>2Story</td>\n",
              "      <td>8</td>\n",
              "      <td>5</td>\n",
              "      <td>2000</td>\n",
              "      <td>2000</td>\n",
              "      <td>Gable</td>\n",
              "      <td>CompShg</td>\n",
              "      <td>VinylSd</td>\n",
              "      <td>VinylSd</td>\n",
              "      <td>BrkFace</td>\n",
              "      <td>350.0</td>\n",
              "      <td>Gd</td>\n",
              "      <td>TA</td>\n",
              "      <td>PConc</td>\n",
              "      <td>Gd</td>\n",
              "      <td>TA</td>\n",
              "      <td>Av</td>\n",
              "      <td>GLQ</td>\n",
              "      <td>655.0</td>\n",
              "      <td>Unf</td>\n",
              "      <td>0.0</td>\n",
              "      <td>490.0</td>\n",
              "      <td>1145.0</td>\n",
              "      <td>GasA</td>\n",
              "      <td>Ex</td>\n",
              "      <td>Y</td>\n",
              "      <td>SBrkr</td>\n",
              "      <td>1145</td>\n",
              "      <td>1053</td>\n",
              "      <td>0</td>\n",
              "      <td>2198</td>\n",
              "      <td>1.0</td>\n",
              "      <td>0.0</td>\n",
              "      <td>2</td>\n",
              "      <td>1</td>\n",
              "      <td>4</td>\n",
              "      <td>1</td>\n",
              "      <td>Gd</td>\n",
              "      <td>9</td>\n",
              "      <td>Typ</td>\n",
              "      <td>1</td>\n",
              "      <td>TA</td>\n",
              "      <td>Attchd</td>\n",
              "      <td>2000.0</td>\n",
              "      <td>RFn</td>\n",
              "      <td>3.0</td>\n",
              "      <td>836.0</td>\n",
              "      <td>TA</td>\n",
              "      <td>TA</td>\n",
              "      <td>Y</td>\n",
              "      <td>192</td>\n",
              "      <td>84</td>\n",
              "      <td>0</td>\n",
              "      <td>0</td>\n",
              "      <td>0</td>\n",
              "      <td>0</td>\n",
              "      <td>NaN</td>\n",
              "      <td>NaN</td>\n",
              "      <td>NaN</td>\n",
              "      <td>0</td>\n",
              "      <td>12</td>\n",
              "      <td>2008</td>\n",
              "      <td>WD</td>\n",
              "      <td>Normal</td>\n",
              "      <td>250000.0</td>\n",
              "    </tr>\n",
              "  </tbody>\n",
              "</table>\n",
              "</div>"
            ],
            "text/plain": [
              "   MSSubClass MSZoning  LotFrontage  ...  SaleType SaleCondition SalePrice\n",
              "0          60       RL         65.0  ...        WD        Normal  208500.0\n",
              "1          20       RL         80.0  ...        WD        Normal  181500.0\n",
              "2          60       RL         68.0  ...        WD        Normal  223500.0\n",
              "3          70       RL         60.0  ...        WD       Abnorml  140000.0\n",
              "4          60       RL         84.0  ...        WD        Normal  250000.0\n",
              "\n",
              "[5 rows x 80 columns]"
            ]
          },
          "metadata": {
            "tags": []
          },
          "execution_count": 118
        }
      ]
    },
    {
      "cell_type": "markdown",
      "metadata": {
        "id": "46OnypFrxQPI",
        "colab_type": "text"
      },
      "source": [
        "### Cleaning Data Set\n"
      ]
    },
    {
      "cell_type": "code",
      "metadata": {
        "id": "1LTAXPfExQPJ",
        "colab_type": "code",
        "colab": {
          "base_uri": "https://localhost:8080/",
          "height": 402
        },
        "outputId": "fa747390-2d88-4953-d095-6779418751ea"
      },
      "source": [
        "pd.DataFrame(train.isna().sum()*100/train.shape[0]).plot.bar(figsize=(20,5))"
      ],
      "execution_count": 131,
      "outputs": [
        {
          "output_type": "execute_result",
          "data": {
            "text/plain": [
              "<matplotlib.axes._subplots.AxesSubplot at 0x7fca31591be0>"
            ]
          },
          "metadata": {
            "tags": []
          },
          "execution_count": 131
        },
        {
          "output_type": "display_data",
          "data": {
            "image/png": "[encoded data removed]",
            "text/plain": [
              "<Figure size 1440x360 with 1 Axes>"
            ]
          },
          "metadata": {
            "tags": [],
            "needs_background": "light"
          }
        }
      ]
    },
    {
      "cell_type": "markdown",
      "metadata": {
        "id": "Jy2EwsUoxQPM",
        "colab_type": "text"
      },
      "source": [
        "* For the variables with huge proportion of missing value: Alley, PoolQC, Fence and MiscFeature, it's proper to replace NA value with None. Since None is also a type\n",
        "* Replaced null values with None in the FireplaceQu column both in test and training set."
      ]
    },
    {
      "cell_type": "code",
      "metadata": {
        "id": "3uBya35UXo-9",
        "colab_type": "code",
        "colab": {}
      },
      "source": [
        "# Get columns to fill missing column with Null\n",
        "columns_fill_null = full.columns[full.isnull().any(axis = 0)].drop(['LotFrontage', 'SalePrice', \"MasVnrArea\", \"GarageYrBlt\"])"
      ],
      "execution_count": 120,
      "outputs": []
    },
    {
      "cell_type": "code",
      "metadata": {
        "id": "2MKD8m7OYPAj",
        "colab_type": "code",
        "colab": {}
      },
      "source": [
        "full[columns_fill_null] = full[columns_fill_null].fillna(\"None\")\n",
        "full['MasVnrArea'] = full['MasVnrArea'].fillna(0)\n",
        "full['GarageYrBlt'] = full['GarageYrBlt'].fillna(full['YearBuilt'])"
      ],
      "execution_count": 122,
      "outputs": []
    },
    {
      "cell_type": "code",
      "metadata": {
        "id": "jP81WpxMZQKJ",
        "colab_type": "code",
        "colab": {}
      },
      "source": [
        "train = full[full['SalePrice'].notnull()]\n",
        "test = full[full['SalePrice'].isnull()]"
      ],
      "execution_count": 123,
      "outputs": []
    },
    {
      "cell_type": "code",
      "metadata": {
        "id": "qgTVEFIKF0eg",
        "colab_type": "code",
        "colab": {
          "base_uri": "https://localhost:8080/",
          "height": 34
        },
        "outputId": "15d21784-dd33-45b7-c3a3-07a275cd7b3b"
      },
      "source": [
        "# Get train LotFrontage dummy variables\n",
        "LotFrontage_Dummies_df = pd.get_dummies(train[['LotFrontage', 'MSZoning', 'LotArea', 'LotConfig', 'Neighborhood']])\n",
        "\n",
        "# Get full dummy variables\n",
        "# Split the data into LotFrontage known and LotFrontage unknown\n",
        "LotFrontageKnown = LotFrontage_Dummies_df[LotFrontage_Dummies_df[\"LotFrontage\"].notnull()]\n",
        "LotFrontageUnknown = LotFrontage_Dummies_df[LotFrontage_Dummies_df[\"LotFrontage\"].isnull()]\n",
        "\n",
        "# Training data knowing LotFrontage\n",
        "LotFrontage_Known_X = LotFrontageKnown.drop([\"LotFrontage\"], axis = 1)\n",
        "LotFrontage_Known_y = LotFrontageKnown[\"LotFrontage\"]\n",
        "# Training data unknown LotFrontage\n",
        "LotFrontage_Unknown_X = LotFrontageUnknown.drop([\"LotFrontage\"], axis = 1)\n",
        "# Build model using random forest\n",
        "from sklearn.ensemble import RandomForestRegressor\n",
        "rfr=RandomForestRegressor(random_state=1,n_estimators=500,n_jobs=-1)\n",
        "rfr.fit(LotFrontage_Known_X, LotFrontage_Known_y)\n",
        "rfr.score(LotFrontage_Known_X, LotFrontage_Known_y)"
      ],
      "execution_count": 124,
      "outputs": [
        {
          "output_type": "execute_result",
          "data": {
            "text/plain": [
              "0.9305840449585167"
            ]
          },
          "metadata": {
            "tags": []
          },
          "execution_count": 124
        }
      ]
    },
    {
      "cell_type": "code",
      "metadata": {
        "id": "k8HAnb4oHYx8",
        "colab_type": "code",
        "colab": {}
      },
      "source": [
        "# Predict training data unknown LotFrontage\n",
        "LotFrontage_Unknown_y = rfr.predict(LotFrontage_Unknown_X)\n",
        "train.loc[train[\"LotFrontage\"].isnull(), \"LotFrontage\"] = LotFrontage_Unknown_y"
      ],
      "execution_count": 125,
      "outputs": []
    },
    {
      "cell_type": "code",
      "metadata": {
        "id": "I-013Z4KPZJZ",
        "colab_type": "code",
        "colab": {
          "base_uri": "https://localhost:8080/",
          "height": 34
        },
        "outputId": "fef37e73-f762-4a30-e212-238831c7905e"
      },
      "source": [
        "# Repeat same process for test data\n",
        "# Get train LotFrontage dummy variables\n",
        "LotFrontage_Dummies_df = pd.get_dummies(test[['LotFrontage', 'MSZoning', 'LotArea', 'LotConfig', 'Neighborhood']])\n",
        "\n",
        "# Get full dummy variables\n",
        "# Split the data into LotFrontage known and LotFrontage unknown\n",
        "LotFrontageKnown = LotFrontage_Dummies_df[LotFrontage_Dummies_df[\"LotFrontage\"].notnull()]\n",
        "LotFrontageUnknown = LotFrontage_Dummies_df[LotFrontage_Dummies_df[\"LotFrontage\"].isnull()]\n",
        "\n",
        "# Testing data knowing LotFrontage\n",
        "LotFrontage_Known_X = LotFrontageKnown.drop([\"LotFrontage\"], axis = 1)\n",
        "LotFrontage_Known_y = LotFrontageKnown[\"LotFrontage\"]\n",
        "# Testing data unknown LotFrontage\n",
        "LotFrontage_Unknown_X = LotFrontageUnknown.drop([\"LotFrontage\"], axis = 1)\n",
        "# Build model using random forest\n",
        "from sklearn.ensemble import RandomForestRegressor\n",
        "rfr=RandomForestRegressor(random_state=1,n_estimators=500,n_jobs=-1)\n",
        "rfr.fit(LotFrontage_Known_X, LotFrontage_Known_y)\n",
        "rfr.score(LotFrontage_Known_X, LotFrontage_Known_y)"
      ],
      "execution_count": 128,
      "outputs": [
        {
          "output_type": "execute_result",
          "data": {
            "text/plain": [
              "0.9453821292425812"
            ]
          },
          "metadata": {
            "tags": []
          },
          "execution_count": 128
        }
      ]
    },
    {
      "cell_type": "code",
      "metadata": {
        "id": "UYAeci5RCb3c",
        "colab_type": "code",
        "colab": {}
      },
      "source": [
        "# Predict testing data unknown LotFrontage\n",
        "LotFrontage_Unknown_y = rfr.predict(LotFrontage_Unknown_X)\n",
        "test.loc[test[\"LotFrontage\"].isnull(), \"LotFrontage\"] = LotFrontage_Unknown_y"
      ],
      "execution_count": 130,
      "outputs": []
    },
    {
      "cell_type": "code",
      "metadata": {
        "id": "Jrx9NR22xQPR",
        "colab_type": "code",
        "colab": {}
      },
      "source": [
        ""
      ],
      "execution_count": null,
      "outputs": []
    },
    {
      "cell_type": "markdown",
      "metadata": {
        "id": "dLpkDZACxQPg",
        "colab_type": "text"
      },
      "source": [
        "## Converting year built into age"
      ]
    },
    {
      "cell_type": "code",
      "metadata": {
        "id": "N1gXV_QqxQPg",
        "colab_type": "code",
        "colab": {}
      },
      "source": [
        "currentYear = datetime.now().year"
      ],
      "execution_count": null,
      "outputs": []
    },
    {
      "cell_type": "markdown",
      "metadata": {
        "id": "8oyuAeWlxQPi",
        "colab_type": "text"
      },
      "source": [
        "* Converting a few columns such as Year Built and Year Remod added into the age as per current date. \n",
        "* The following columns make no contribution regarding the sales price ,so we can drop it. \n",
        "\n",
        " - MoSold : Month Sold (MM)\n",
        "\n",
        " - YrSold: Year Sold (YYYY)\n",
        "\n",
        " - SaleType: Type of sale\n",
        "\n",
        " - SaleCondition: Condition of sale\n",
        "\n",
        "\n"
      ]
    },
    {
      "cell_type": "code",
      "metadata": {
        "id": "rldghXJhxQPj",
        "colab_type": "code",
        "colab": {}
      },
      "source": [
        "X_train['Age_House']=currentYear-X_train['YearBuilt']\n",
        "X_train['Age_Renovation']=currentYear-X_train['YearRemodAdd']\n",
        "X_train['Garage_age']=currentYear-X_train['GarageYrBlt']\n",
        "X_train = X_train.drop(['YearBuilt','YearRemodAdd','GarageYrBlt','MoSold','YrSold','SaleType','SaleCondition'],axis=1)"
      ],
      "execution_count": null,
      "outputs": []
    },
    {
      "cell_type": "code",
      "metadata": {
        "id": "mxF_vQm7xQPl",
        "colab_type": "code",
        "colab": {}
      },
      "source": [
        "X_test['Age_House']=currentYear-X_test['YearBuilt']\n",
        "X_test['Age_Renovation']=currentYear-X_test['YearRemodAdd']\n",
        "X_test['Garage_age']=currentYear-X_test['GarageYrBlt']\n",
        "X_test = X_test.drop(['YearBuilt','YearRemodAdd','GarageYrBlt','MoSold','YrSold','SaleType','SaleCondition'],axis=1)"
      ],
      "execution_count": null,
      "outputs": []
    },
    {
      "cell_type": "code",
      "metadata": {
        "id": "gpDN3uAaxQPo",
        "colab_type": "code",
        "colab": {},
        "outputId": "c1ea95d1-021c-4695-988d-d30274061e50"
      },
      "source": [
        "X_train['Age_House'].head()\n",
        "#X_train['Age_Renovation'].head()"
      ],
      "execution_count": null,
      "outputs": [
        {
          "output_type": "execute_result",
          "data": {
            "text/plain": [
              "0     17\n",
              "1     44\n",
              "2     19\n",
              "3    105\n",
              "4     20\n",
              "Name: Age_House, dtype: int64"
            ]
          },
          "metadata": {
            "tags": []
          },
          "execution_count": 315
        }
      ]
    },
    {
      "cell_type": "code",
      "metadata": {
        "id": "orVqcC8exQPr",
        "colab_type": "code",
        "colab": {},
        "outputId": "9e2fe53b-8a4b-4f38-da1e-c891bd33c43b"
      },
      "source": [
        "X_train.GarageQual.isna().sum()\n",
        "#X_train.GarageFinish.isna().sum()\n",
        "#X_train.GarageFinish.isna().sum()"
      ],
      "execution_count": null,
      "outputs": [
        {
          "output_type": "execute_result",
          "data": {
            "text/plain": [
              "81"
            ]
          },
          "metadata": {
            "tags": []
          },
          "execution_count": 316
        }
      ]
    },
    {
      "cell_type": "code",
      "metadata": {
        "id": "0QbNvkomxQPt",
        "colab_type": "code",
        "colab": {},
        "outputId": "2b05464b-badc-4218-c191-86c71d41e762"
      },
      "source": [
        "X_train['BsmtQual'].isna().sum()\n",
        "#X_train['BsmtCond'].isna().sum()\n",
        "#X_train['BsmtExposure'].isna().sum()\n",
        "#X_train['BsmtFinType1'].isna().sum()"
      ],
      "execution_count": null,
      "outputs": [
        {
          "output_type": "execute_result",
          "data": {
            "text/plain": [
              "37"
            ]
          },
          "metadata": {
            "tags": []
          },
          "execution_count": 317
        }
      ]
    },
    {
      "cell_type": "markdown",
      "metadata": {
        "id": "MTachzaNxQPv",
        "colab_type": "text"
      },
      "source": [
        "* NA must be the houses with no garage as we have the same number of rows as NA where houses have a garage feature\n",
        "* NA must be the houses with no basement as we have the same number of rows as NA where houses have a garage feature\n",
        "* Replaced Garage age missing value with the mean of garage age value so we don't loose data; replacing these with the value of house age might lead to to downside effect in the case where houses are new and case where houses are old \n"
      ]
    },
    {
      "cell_type": "code",
      "metadata": {
        "id": "uVKJXDQFxQPv",
        "colab_type": "code",
        "colab": {}
      },
      "source": [
        "#we can ignore D,E as they belong to a <1% decrease in dataset\n",
        "A = X_train.GarageType.value_counts().index[0]\n",
        "B = X_train.Electrical.value_counts().index[0]\n",
        "C = X_train['Garage_age'].mean\n",
        "D = X_train['MasVnrArea'].mean\n",
        "E = X_train.MasVnrType.value_counts().index[0]\n",
        "\n",
        "X_train['GarageQual']=X_train['GarageQual'].fillna('NA')\n",
        "X_train['GarageFinish']=X_train['GarageFinish'].fillna('NA')\n",
        "X_train['GarageCond']=X_train['GarageCond'].fillna('NA')\n",
        "\n",
        "X_train['GarageType']=X_train['GarageType'].fillna(A)\n",
        "X_train['Electrical']=X_train['Electrical'].fillna(B)\n",
        "X_train['Garage_age']=X_train['Garage_age'].fillna(C)\n",
        "X_train['MasVnrArea']=X_train['MasVnrArea'].fillna(D)\n",
        "X_train['MasVnrType']=X_train['MasVnrType'].fillna(E)\n",
        "\n",
        "X_train['BsmtQual']=X_train['BsmtQual'].fillna('NA')\n",
        "X_train['BsmtCond']=X_train['BsmtCond'].fillna('NA')\n",
        "X_train['BsmtExposure']=X_train['BsmtExposure'].fillna('NA')\n",
        "X_train['BsmtFinType1']=X_train['BsmtFinType1'].fillna('NA')\n",
        "X_train['BsmtFinType2']=X_train['BsmtFinType2'].fillna('NA')"
      ],
      "execution_count": null,
      "outputs": []
    },
    {
      "cell_type": "code",
      "metadata": {
        "id": "qmLW9VL5xQPx",
        "colab_type": "code",
        "colab": {},
        "outputId": "3a668516-e214-4ff8-949e-b8cf90ab46c8"
      },
      "source": [
        "X_train.MasVnrType.unique()"
      ],
      "execution_count": null,
      "outputs": [
        {
          "output_type": "execute_result",
          "data": {
            "text/plain": [
              "array(['BrkFace', 'None', 'Stone', 'BrkCmn'], dtype=object)"
            ]
          },
          "metadata": {
            "tags": []
          },
          "execution_count": 319
        }
      ]
    },
    {
      "cell_type": "markdown",
      "metadata": {
        "id": "sR7LcG0UxQP1",
        "colab_type": "text"
      },
      "source": [
        "* This is the final step of cleaning the dataset. "
      ]
    },
    {
      "cell_type": "markdown",
      "metadata": {
        "id": "Ee8k7W7qxQP1",
        "colab_type": "text"
      },
      "source": [
        "### Applying the same step to the test set so we have clean test set. "
      ]
    },
    {
      "cell_type": "code",
      "metadata": {
        "id": "UdzMY9gjxQP2",
        "colab_type": "code",
        "colab": {}
      },
      "source": [
        "X_test['GarageQual']=X_test['GarageQual'].fillna('NA')\n",
        "X_test['GarageFinish']=X_test['GarageFinish'].fillna('NA')\n",
        "X_test['GarageCond']=X_test['GarageCond'].fillna('NA')\n",
        "\n",
        "X_test['GarageType']=X_test['GarageType'].fillna(A)\n",
        "X_test['Electrical']=X_test['Electrical'].fillna(B)\n",
        "X_test['Garage_age']=X_test['Garage_age'].fillna(C)\n",
        "X_test['MasVnrArea']=X_test['MasVnrArea'].fillna(D)\n",
        "X_test['MasVnrType']=X_test['MasVnrType'].fillna(E)\n",
        "\n",
        "X_test['BsmtQual']=X_test['BsmtQual'].fillna('NA')\n",
        "X_test['BsmtCond']=X_test['BsmtCond'].fillna('NA')\n",
        "X_test['BsmtExposure']=X_test['BsmtExposure'].fillna('NA')\n",
        "X_test['BsmtFinType1']=X_test['BsmtFinType1'].fillna('NA')\n",
        "X_test['BsmtFinType2']=X_test['BsmtFinType2'].fillna('NA')"
      ],
      "execution_count": null,
      "outputs": []
    },
    {
      "cell_type": "code",
      "metadata": {
        "id": "AyZcyG9WxQP5",
        "colab_type": "code",
        "colab": {},
        "outputId": "5df2bbe8-6e43-447c-d5c9-5fffabaff39a"
      },
      "source": [
        "pd.DataFrame(X_test.isna().sum()*100/X_test.shape[0]).plot.bar(figsize=(20,5))"
      ],
      "execution_count": null,
      "outputs": [
        {
          "output_type": "execute_result",
          "data": {
            "text/plain": [
              "<matplotlib.axes._subplots.AxesSubplot at 0x7faa00a04e50>"
            ]
          },
          "metadata": {
            "tags": []
          },
          "execution_count": 321
        },
        {
          "output_type": "display_data",
          "data": {
            "image/png": "[encoded data removed]",
            "text/plain": [
              "<Figure size 1440x360 with 1 Axes>"
            ]
          },
          "metadata": {
            "tags": [],
            "needs_background": "light"
          }
        }
      ]
    },
    {
      "cell_type": "code",
      "metadata": {
        "id": "09hv4L-AxQP7",
        "colab_type": "code",
        "colab": {}
      },
      "source": [
        "#construction new values to replace the missing values. \n",
        "F = X_train.MSZoning.value_counts().index[0]\n",
        "G = X_train.Utilities.value_counts().index[0]\n",
        "H = X_train.Exterior1st.value_counts().index[0]\n",
        "I = X_train.Exterior2nd.value_counts().index[0]\n",
        "J = X_train['BsmtFinSF1'].mean()\n",
        "K = X_train['BsmtFinSF2'].mean()\n",
        "L = X_train['TotalBsmtSF'].mean()\n",
        "M = X_train.BsmtFullBath.value_counts().index[0]\n",
        "N = X_train.BsmtHalfBath.value_counts().index[0]\n",
        "O = X_train.KitchenQual.value_counts().index[0]\n",
        "P = X_train.Functional.value_counts().index[0]\n",
        "Q = int(X_train.GarageCars.value_counts().index[0])\n",
        "R = X_train['GarageArea'].mean()\n",
        "S = X_train['BsmtUnfSF'].mean()\n"
      ],
      "execution_count": null,
      "outputs": []
    },
    {
      "cell_type": "code",
      "metadata": {
        "id": "GJPuFt0hxQP9",
        "colab_type": "code",
        "colab": {}
      },
      "source": [
        "X_test['MSZoning']=X_test['MSZoning'].fillna(F)\n",
        "X_test['Utilities']=X_test['Utilities'].fillna(G)\n",
        "X_test['Exterior1st']=X_test['Exterior1st'].fillna(H)\n",
        "X_test['Exterior2nd']=X_test['Exterior2nd'].fillna(I)\n",
        "X_test['BsmtFinSF1']=X_test['BsmtFinSF1'].fillna(J)\n",
        "X_test['BsmtFinSF2']=X_test['BsmtFinSF2'].fillna(K)\n",
        "X_test['TotalBsmtSF']=X_test['TotalBsmtSF'].fillna(L)\n",
        "X_test['BsmtFullBath']=X_test['BsmtFullBath'].fillna(M)\n",
        "X_test['BsmtHalfBath']=X_test['BsmtHalfBath'].fillna(N)\n",
        "X_test['KitchenQual']=X_test['KitchenQual'].fillna(O)\n",
        "X_test['Functional']=X_test['Functional'].fillna(P)\n",
        "X_test['GarageCars']=X_test['GarageCars'].fillna(Q)\n",
        "X_test['GarageArea']=X_test['GarageArea'].fillna(R)\n",
        "X_test['BsmtUnfSF']=X_test['BsmtUnfSF'].fillna(S)\n",
        "\n"
      ],
      "execution_count": null,
      "outputs": []
    },
    {
      "cell_type": "code",
      "metadata": {
        "id": "AL32tU9bxQP_",
        "colab_type": "code",
        "colab": {},
        "outputId": "87c5defd-0bc6-4ecd-8b0d-5cd2d41be50f"
      },
      "source": [
        "pd.DataFrame(X_train.isna().sum()*100/X_train.shape[0]).plot.bar(figsize=(20,5))"
      ],
      "execution_count": null,
      "outputs": [
        {
          "output_type": "execute_result",
          "data": {
            "text/plain": [
              "<matplotlib.axes._subplots.AxesSubplot at 0x7faa00a2ec10>"
            ]
          },
          "metadata": {
            "tags": []
          },
          "execution_count": 324
        },
        {
          "output_type": "display_data",
          "data": {
            "image/png": "[encoded data removed]",
            "text/plain": [
              "<Figure size 1440x360 with 1 Axes>"
            ]
          },
          "metadata": {
            "tags": [],
            "needs_background": "light"
          }
        }
      ]
    },
    {
      "cell_type": "code",
      "metadata": {
        "id": "dhu7ivpHxQQB",
        "colab_type": "code",
        "colab": {},
        "outputId": "f73bd4d4-a7e8-4a2b-bc60-481906e6b105"
      },
      "source": [
        "pd.DataFrame(X_test.isna().sum()*100/X_test.shape[0]).plot.bar(figsize=(20,5))"
      ],
      "execution_count": null,
      "outputs": [
        {
          "output_type": "execute_result",
          "data": {
            "text/plain": [
              "<matplotlib.axes._subplots.AxesSubplot at 0x7faa01a84f10>"
            ]
          },
          "metadata": {
            "tags": []
          },
          "execution_count": 325
        },
        {
          "output_type": "display_data",
          "data": {
            "image/png": "[encoded data removed]",
            "text/plain": [
              "<Figure size 1440x360 with 1 Axes>"
            ]
          },
          "metadata": {
            "tags": [],
            "needs_background": "light"
          }
        }
      ]
    },
    {
      "cell_type": "code",
      "metadata": {
        "id": "P5n_jOoFxQQD",
        "colab_type": "code",
        "colab": {},
        "outputId": "9f350799-abf8-4723-bbf1-de8278aeab5c"
      },
      "source": [
        "pd.DataFrame(X_train.isna().sum()).sum()"
      ],
      "execution_count": null,
      "outputs": [
        {
          "output_type": "execute_result",
          "data": {
            "text/plain": [
              "0    0\n",
              "dtype: int64"
            ]
          },
          "metadata": {
            "tags": []
          },
          "execution_count": 326
        }
      ]
    },
    {
      "cell_type": "code",
      "metadata": {
        "id": "MUjB_6QwxQQF",
        "colab_type": "code",
        "colab": {},
        "outputId": "98373c8e-65be-48b7-de64-fb8cd21b9657"
      },
      "source": [
        "pd.DataFrame(X_train.isna().sum()).sum()"
      ],
      "execution_count": null,
      "outputs": [
        {
          "output_type": "execute_result",
          "data": {
            "text/plain": [
              "0    0\n",
              "dtype: int64"
            ]
          },
          "metadata": {
            "tags": []
          },
          "execution_count": 327
        }
      ]
    },
    {
      "cell_type": "markdown",
      "metadata": {
        "id": "hXNaW_XwxQQH",
        "colab_type": "text"
      },
      "source": [
        "#### We can see that the test/train set has no null values, we can start EDA and model training. "
      ]
    },
    {
      "cell_type": "markdown",
      "metadata": {
        "id": "KpUeb7yDxQQI",
        "colab_type": "text"
      },
      "source": [
        "# EDA"
      ]
    },
    {
      "cell_type": "code",
      "metadata": {
        "id": "7eWLHz9jxQQI",
        "colab_type": "code",
        "colab": {},
        "outputId": "9e866e6b-ee15-4c5a-bf71-2798f0fd32bd"
      },
      "source": [
        "result = pd.concat([X_train, Y_train], axis=1)\n",
        "Corr = result.corr().iloc[:-1,-1]\n",
        "\n",
        "fig, ax_ = plt.subplots(figsize=(8, 10))\n",
        "_ =  Corr.plot(kind='barh', ax=ax_, colormap='gnuplot')\n",
        "_ = ax_.set_xlabel('Pearson Correlation for continuous variables')"
      ],
      "execution_count": null,
      "outputs": [
        {
          "output_type": "display_data",
          "data": {
            "image/png": "[encoded data removed]",
            "text/plain": [
              "<Figure size 576x720 with 1 Axes>"
            ]
          },
          "metadata": {
            "tags": [],
            "needs_background": "light"
          }
        }
      ]
    },
    {
      "cell_type": "code",
      "metadata": {
        "id": "4KayAdDExQQK",
        "colab_type": "code",
        "colab": {}
      },
      "source": [
        ""
      ],
      "execution_count": null,
      "outputs": []
    }
  ]
}