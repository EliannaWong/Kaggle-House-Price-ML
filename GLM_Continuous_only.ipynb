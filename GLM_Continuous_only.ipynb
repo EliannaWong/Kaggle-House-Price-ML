{
 "cells": [
  {
   "cell_type": "code",
   "execution_count": 8,
   "metadata": {},
   "outputs": [],
   "source": [
    "#libraries we need\n",
    "import pandas as pd\n",
    "import numpy as np\n",
    "import seaborn as sns\n",
    "import matplotlib.pyplot as plt\n",
    "from datetime import datetime\n",
    "from datetime import date\n",
    "pd.options.mode.chained_assignment = None\n",
    "import h2o\n",
    "from sklearn.model_selection import train_test_split\n",
    "from h2o.estimators.glm import H2OGeneralizedLinearEstimator\n",
    "from h2o.grid.grid_search import H2OGridSearch"
   ]
  },
  {
   "cell_type": "code",
   "execution_count": 9,
   "metadata": {},
   "outputs": [
    {
     "name": "stdout",
     "output_type": "stream",
     "text": [
      "Checking whether there is an H2O instance running at http://localhost:54321 . connected.\n"
     ]
    },
    {
     "data": {
      "text/html": [
       "<div style=\"overflow:auto\"><table style=\"width:50%\"><tr><td>H2O_cluster_uptime:</td>\n",
       "<td>36 secs</td></tr>\n",
       "<tr><td>H2O_cluster_timezone:</td>\n",
       "<td>America/Los_Angeles</td></tr>\n",
       "<tr><td>H2O_data_parsing_timezone:</td>\n",
       "<td>UTC</td></tr>\n",
       "<tr><td>H2O_cluster_version:</td>\n",
       "<td>3.30.0.5</td></tr>\n",
       "<tr><td>H2O_cluster_version_age:</td>\n",
       "<td>6 days </td></tr>\n",
       "<tr><td>H2O_cluster_name:</td>\n",
       "<td>H2O_from_python_vibhz_r9c7ub</td></tr>\n",
       "<tr><td>H2O_cluster_total_nodes:</td>\n",
       "<td>1</td></tr>\n",
       "<tr><td>H2O_cluster_free_memory:</td>\n",
       "<td>21.32 Gb</td></tr>\n",
       "<tr><td>H2O_cluster_total_cores:</td>\n",
       "<td>8</td></tr>\n",
       "<tr><td>H2O_cluster_allowed_cores:</td>\n",
       "<td>4</td></tr>\n",
       "<tr><td>H2O_cluster_status:</td>\n",
       "<td>locked, healthy</td></tr>\n",
       "<tr><td>H2O_connection_url:</td>\n",
       "<td>http://localhost:54321</td></tr>\n",
       "<tr><td>H2O_connection_proxy:</td>\n",
       "<td>{\"http\": null, \"https\": null}</td></tr>\n",
       "<tr><td>H2O_internal_security:</td>\n",
       "<td>False</td></tr>\n",
       "<tr><td>H2O_API_Extensions:</td>\n",
       "<td>Amazon S3, XGBoost, Algos, AutoML, Core V3, TargetEncoder, Core V4</td></tr>\n",
       "<tr><td>Python_version:</td>\n",
       "<td>3.6.4 final</td></tr></table></div>"
      ],
      "text/plain": [
       "--------------------------  ------------------------------------------------------------------\n",
       "H2O_cluster_uptime:         36 secs\n",
       "H2O_cluster_timezone:       America/Los_Angeles\n",
       "H2O_data_parsing_timezone:  UTC\n",
       "H2O_cluster_version:        3.30.0.5\n",
       "H2O_cluster_version_age:    6 days\n",
       "H2O_cluster_name:           H2O_from_python_vibhz_r9c7ub\n",
       "H2O_cluster_total_nodes:    1\n",
       "H2O_cluster_free_memory:    21.32 Gb\n",
       "H2O_cluster_total_cores:    8\n",
       "H2O_cluster_allowed_cores:  4\n",
       "H2O_cluster_status:         locked, healthy\n",
       "H2O_connection_url:         http://localhost:54321\n",
       "H2O_connection_proxy:       {\"http\": null, \"https\": null}\n",
       "H2O_internal_security:      False\n",
       "H2O_API_Extensions:         Amazon S3, XGBoost, Algos, AutoML, Core V3, TargetEncoder, Core V4\n",
       "Python_version:             3.6.4 final\n",
       "--------------------------  ------------------------------------------------------------------"
      ]
     },
     "metadata": {},
     "output_type": "display_data"
    }
   ],
   "source": [
    "h2o.init(max_mem_size='24G', nthreads=4) # start h2o with plenty of memory and threads\n",
    "h2o.remove_all()                         # clears h2o memory\n",
    "h2o.no_progress()                        # turn off h2o progress indicators"
   ]
  },
  {
   "cell_type": "code",
   "execution_count": 10,
   "metadata": {},
   "outputs": [],
   "source": [
    "#Import cleaned files \n",
    "train_df = pd.read_csv('./House-Prices-Data/new_train.csv')\n",
    "test_df = pd.read_csv('./House-Prices-Data/new_test.csv').drop(['SalePrice'],axis=1)\n",
    "#train_df.head(5)\n",
    "\n",
    "train_num_df = train_df[[key for key in dict(train_df.dtypes) if dict(train_df.dtypes)[key] in ['float64', 'int64']]]\n",
    "\n",
    "test_num_df = test_df[[key for key in dict(test_df.dtypes) if dict(test_df.dtypes)[key] in ['float64', 'int64']]]"
   ]
  },
  {
   "cell_type": "code",
   "execution_count": 11,
   "metadata": {},
   "outputs": [],
   "source": [
    "response = 'SalePrice'\n",
    "predictors = list(train_num_df.columns.values)"
   ]
  },
  {
   "cell_type": "code",
   "execution_count": 12,
   "metadata": {},
   "outputs": [],
   "source": [
    "hf=h2o.H2OFrame(train_num_df)\n",
    "gf=h2o.H2OFrame(test_num_df)"
   ]
  },
  {
   "cell_type": "code",
   "execution_count": 13,
   "metadata": {},
   "outputs": [
    {
     "data": {
      "text/html": [
       "<table>\n",
       "<thead>\n",
       "<tr><th style=\"text-align: right;\">  MSSubClass</th><th style=\"text-align: right;\">  LotFrontage</th><th style=\"text-align: right;\">  LotArea</th><th style=\"text-align: right;\">  Street</th><th style=\"text-align: right;\">  Alley</th><th style=\"text-align: right;\">  LotShape</th><th style=\"text-align: right;\">  LandSlope</th><th style=\"text-align: right;\">  OverallQual</th><th style=\"text-align: right;\">  OverallCond</th><th style=\"text-align: right;\">  MasVnrArea</th><th style=\"text-align: right;\">  ExterQual</th><th style=\"text-align: right;\">  ExterCond</th><th style=\"text-align: right;\">  BsmtQual</th><th style=\"text-align: right;\">  BsmtCond</th><th style=\"text-align: right;\">  BsmtExposure</th><th style=\"text-align: right;\">  BsmtFinType1</th><th style=\"text-align: right;\">  BsmtFinSF1</th><th style=\"text-align: right;\">  BsmtFinType2</th><th style=\"text-align: right;\">  BsmtFinSF2</th><th style=\"text-align: right;\">  BsmtUnfSF</th><th style=\"text-align: right;\">  TotalBsmtSF</th><th style=\"text-align: right;\">  HeatingQC</th><th style=\"text-align: right;\">  CentralAir</th><th style=\"text-align: right;\">  1stFlrSF</th><th style=\"text-align: right;\">  2ndFlrSF</th><th style=\"text-align: right;\">  LowQualFinSF</th><th style=\"text-align: right;\">  GrLivArea</th><th style=\"text-align: right;\">  BsmtFullBath</th><th style=\"text-align: right;\">  BsmtHalfBath</th><th style=\"text-align: right;\">  FullBath</th><th style=\"text-align: right;\">  HalfBath</th><th style=\"text-align: right;\">  BedroomAbvGr</th><th style=\"text-align: right;\">  KitchenAbvGr</th><th style=\"text-align: right;\">  KitchenQual</th><th style=\"text-align: right;\">  TotRmsAbvGrd</th><th style=\"text-align: right;\">  Functional</th><th style=\"text-align: right;\">  Fireplaces</th><th style=\"text-align: right;\">  FireplaceQu</th><th style=\"text-align: right;\">  GarageFinish</th><th style=\"text-align: right;\">  GarageCars</th><th style=\"text-align: right;\">  GarageArea</th><th style=\"text-align: right;\">  GarageQual</th><th style=\"text-align: right;\">  GarageCond</th><th style=\"text-align: right;\">  PavedDrive</th><th style=\"text-align: right;\">  WoodDeckSF</th><th style=\"text-align: right;\">  OpenPorchSF</th><th style=\"text-align: right;\">  EnclosedPorch</th><th style=\"text-align: right;\">  3SsnPorch</th><th style=\"text-align: right;\">  ScreenPorch</th><th style=\"text-align: right;\">  PoolArea</th><th style=\"text-align: right;\">  PoolQC</th><th style=\"text-align: right;\">  Fence</th><th style=\"text-align: right;\">  MiscVal</th><th style=\"text-align: right;\">  MoSold</th><th style=\"text-align: right;\">  YrSold</th><th style=\"text-align: right;\">  SalePrice</th><th style=\"text-align: right;\">  Age_House</th><th style=\"text-align: right;\">  Age_Renovation</th><th style=\"text-align: right;\">  Garage_age</th><th style=\"text-align: right;\">  TotalSF</th></tr>\n",
       "</thead>\n",
       "<tbody>\n",
       "<tr><td style=\"text-align: right;\">          10</td><td style=\"text-align: right;\">        65   </td><td style=\"text-align: right;\">     8450</td><td style=\"text-align: right;\">       1</td><td style=\"text-align: right;\">      1</td><td style=\"text-align: right;\">         3</td><td style=\"text-align: right;\">          0</td><td style=\"text-align: right;\">            7</td><td style=\"text-align: right;\">            4</td><td style=\"text-align: right;\">         196</td><td style=\"text-align: right;\">          2</td><td style=\"text-align: right;\">          4</td><td style=\"text-align: right;\">         2</td><td style=\"text-align: right;\">         4</td><td style=\"text-align: right;\">             3</td><td style=\"text-align: right;\">             2</td><td style=\"text-align: right;\">         706</td><td style=\"text-align: right;\">             6</td><td style=\"text-align: right;\">           0</td><td style=\"text-align: right;\">        150</td><td style=\"text-align: right;\">          856</td><td style=\"text-align: right;\">          0</td><td style=\"text-align: right;\">           1</td><td style=\"text-align: right;\">       856</td><td style=\"text-align: right;\">       854</td><td style=\"text-align: right;\">             0</td><td style=\"text-align: right;\">       1710</td><td style=\"text-align: right;\">             1</td><td style=\"text-align: right;\">             0</td><td style=\"text-align: right;\">         2</td><td style=\"text-align: right;\">         1</td><td style=\"text-align: right;\">             3</td><td style=\"text-align: right;\">             1</td><td style=\"text-align: right;\">            2</td><td style=\"text-align: right;\">             8</td><td style=\"text-align: right;\">           6</td><td style=\"text-align: right;\">           0</td><td style=\"text-align: right;\">            3</td><td style=\"text-align: right;\">             2</td><td style=\"text-align: right;\">           2</td><td style=\"text-align: right;\">         548</td><td style=\"text-align: right;\">           5</td><td style=\"text-align: right;\">           5</td><td style=\"text-align: right;\">           2</td><td style=\"text-align: right;\">           0</td><td style=\"text-align: right;\">           61</td><td style=\"text-align: right;\">              0</td><td style=\"text-align: right;\">          0</td><td style=\"text-align: right;\">            0</td><td style=\"text-align: right;\">         0</td><td style=\"text-align: right;\">       3</td><td style=\"text-align: right;\">      4</td><td style=\"text-align: right;\">        0</td><td style=\"text-align: right;\">       4</td><td style=\"text-align: right;\">       2</td><td style=\"text-align: right;\">     208500</td><td style=\"text-align: right;\">         17</td><td style=\"text-align: right;\">              17</td><td style=\"text-align: right;\">          17</td><td style=\"text-align: right;\">     2566</td></tr>\n",
       "<tr><td style=\"text-align: right;\">           5</td><td style=\"text-align: right;\">        80   </td><td style=\"text-align: right;\">     9600</td><td style=\"text-align: right;\">       1</td><td style=\"text-align: right;\">      1</td><td style=\"text-align: right;\">         3</td><td style=\"text-align: right;\">          0</td><td style=\"text-align: right;\">            6</td><td style=\"text-align: right;\">            7</td><td style=\"text-align: right;\">           0</td><td style=\"text-align: right;\">          3</td><td style=\"text-align: right;\">          4</td><td style=\"text-align: right;\">         2</td><td style=\"text-align: right;\">         4</td><td style=\"text-align: right;\">             1</td><td style=\"text-align: right;\">             0</td><td style=\"text-align: right;\">         978</td><td style=\"text-align: right;\">             6</td><td style=\"text-align: right;\">           0</td><td style=\"text-align: right;\">        284</td><td style=\"text-align: right;\">         1262</td><td style=\"text-align: right;\">          0</td><td style=\"text-align: right;\">           1</td><td style=\"text-align: right;\">      1262</td><td style=\"text-align: right;\">         0</td><td style=\"text-align: right;\">             0</td><td style=\"text-align: right;\">       1262</td><td style=\"text-align: right;\">             0</td><td style=\"text-align: right;\">             1</td><td style=\"text-align: right;\">         2</td><td style=\"text-align: right;\">         0</td><td style=\"text-align: right;\">             3</td><td style=\"text-align: right;\">             1</td><td style=\"text-align: right;\">            3</td><td style=\"text-align: right;\">             6</td><td style=\"text-align: right;\">           6</td><td style=\"text-align: right;\">           1</td><td style=\"text-align: right;\">            5</td><td style=\"text-align: right;\">             2</td><td style=\"text-align: right;\">           2</td><td style=\"text-align: right;\">         460</td><td style=\"text-align: right;\">           5</td><td style=\"text-align: right;\">           5</td><td style=\"text-align: right;\">           2</td><td style=\"text-align: right;\">         298</td><td style=\"text-align: right;\">            0</td><td style=\"text-align: right;\">              0</td><td style=\"text-align: right;\">          0</td><td style=\"text-align: right;\">            0</td><td style=\"text-align: right;\">         0</td><td style=\"text-align: right;\">       3</td><td style=\"text-align: right;\">      4</td><td style=\"text-align: right;\">        0</td><td style=\"text-align: right;\">       7</td><td style=\"text-align: right;\">       1</td><td style=\"text-align: right;\">     181500</td><td style=\"text-align: right;\">         44</td><td style=\"text-align: right;\">              44</td><td style=\"text-align: right;\">          44</td><td style=\"text-align: right;\">     2524</td></tr>\n",
       "<tr><td style=\"text-align: right;\">          10</td><td style=\"text-align: right;\">        68   </td><td style=\"text-align: right;\">    11250</td><td style=\"text-align: right;\">       1</td><td style=\"text-align: right;\">      1</td><td style=\"text-align: right;\">         0</td><td style=\"text-align: right;\">          0</td><td style=\"text-align: right;\">            7</td><td style=\"text-align: right;\">            4</td><td style=\"text-align: right;\">         162</td><td style=\"text-align: right;\">          2</td><td style=\"text-align: right;\">          4</td><td style=\"text-align: right;\">         2</td><td style=\"text-align: right;\">         4</td><td style=\"text-align: right;\">             2</td><td style=\"text-align: right;\">             2</td><td style=\"text-align: right;\">         486</td><td style=\"text-align: right;\">             6</td><td style=\"text-align: right;\">           0</td><td style=\"text-align: right;\">        434</td><td style=\"text-align: right;\">          920</td><td style=\"text-align: right;\">          0</td><td style=\"text-align: right;\">           1</td><td style=\"text-align: right;\">       920</td><td style=\"text-align: right;\">       866</td><td style=\"text-align: right;\">             0</td><td style=\"text-align: right;\">       1786</td><td style=\"text-align: right;\">             1</td><td style=\"text-align: right;\">             0</td><td style=\"text-align: right;\">         2</td><td style=\"text-align: right;\">         1</td><td style=\"text-align: right;\">             3</td><td style=\"text-align: right;\">             1</td><td style=\"text-align: right;\">            2</td><td style=\"text-align: right;\">             6</td><td style=\"text-align: right;\">           6</td><td style=\"text-align: right;\">           1</td><td style=\"text-align: right;\">            5</td><td style=\"text-align: right;\">             2</td><td style=\"text-align: right;\">           2</td><td style=\"text-align: right;\">         608</td><td style=\"text-align: right;\">           5</td><td style=\"text-align: right;\">           5</td><td style=\"text-align: right;\">           2</td><td style=\"text-align: right;\">           0</td><td style=\"text-align: right;\">           42</td><td style=\"text-align: right;\">              0</td><td style=\"text-align: right;\">          0</td><td style=\"text-align: right;\">            0</td><td style=\"text-align: right;\">         0</td><td style=\"text-align: right;\">       3</td><td style=\"text-align: right;\">      4</td><td style=\"text-align: right;\">        0</td><td style=\"text-align: right;\">      11</td><td style=\"text-align: right;\">       2</td><td style=\"text-align: right;\">     223500</td><td style=\"text-align: right;\">         19</td><td style=\"text-align: right;\">              18</td><td style=\"text-align: right;\">          19</td><td style=\"text-align: right;\">     2706</td></tr>\n",
       "<tr><td style=\"text-align: right;\">          11</td><td style=\"text-align: right;\">        60   </td><td style=\"text-align: right;\">     9550</td><td style=\"text-align: right;\">       1</td><td style=\"text-align: right;\">      1</td><td style=\"text-align: right;\">         0</td><td style=\"text-align: right;\">          0</td><td style=\"text-align: right;\">            7</td><td style=\"text-align: right;\">            4</td><td style=\"text-align: right;\">           0</td><td style=\"text-align: right;\">          3</td><td style=\"text-align: right;\">          4</td><td style=\"text-align: right;\">         4</td><td style=\"text-align: right;\">         1</td><td style=\"text-align: right;\">             3</td><td style=\"text-align: right;\">             0</td><td style=\"text-align: right;\">         216</td><td style=\"text-align: right;\">             6</td><td style=\"text-align: right;\">           0</td><td style=\"text-align: right;\">        540</td><td style=\"text-align: right;\">          756</td><td style=\"text-align: right;\">          2</td><td style=\"text-align: right;\">           1</td><td style=\"text-align: right;\">       961</td><td style=\"text-align: right;\">       756</td><td style=\"text-align: right;\">             0</td><td style=\"text-align: right;\">       1717</td><td style=\"text-align: right;\">             1</td><td style=\"text-align: right;\">             0</td><td style=\"text-align: right;\">         1</td><td style=\"text-align: right;\">         0</td><td style=\"text-align: right;\">             3</td><td style=\"text-align: right;\">             1</td><td style=\"text-align: right;\">            2</td><td style=\"text-align: right;\">             7</td><td style=\"text-align: right;\">           6</td><td style=\"text-align: right;\">           1</td><td style=\"text-align: right;\">            2</td><td style=\"text-align: right;\">             3</td><td style=\"text-align: right;\">           3</td><td style=\"text-align: right;\">         642</td><td style=\"text-align: right;\">           5</td><td style=\"text-align: right;\">           5</td><td style=\"text-align: right;\">           2</td><td style=\"text-align: right;\">           0</td><td style=\"text-align: right;\">           35</td><td style=\"text-align: right;\">            272</td><td style=\"text-align: right;\">          0</td><td style=\"text-align: right;\">            0</td><td style=\"text-align: right;\">         0</td><td style=\"text-align: right;\">       3</td><td style=\"text-align: right;\">      4</td><td style=\"text-align: right;\">        0</td><td style=\"text-align: right;\">       4</td><td style=\"text-align: right;\">       0</td><td style=\"text-align: right;\">     140000</td><td style=\"text-align: right;\">        105</td><td style=\"text-align: right;\">              50</td><td style=\"text-align: right;\">          22</td><td style=\"text-align: right;\">     2473</td></tr>\n",
       "<tr><td style=\"text-align: right;\">          10</td><td style=\"text-align: right;\">        84   </td><td style=\"text-align: right;\">    14260</td><td style=\"text-align: right;\">       1</td><td style=\"text-align: right;\">      1</td><td style=\"text-align: right;\">         0</td><td style=\"text-align: right;\">          0</td><td style=\"text-align: right;\">            8</td><td style=\"text-align: right;\">            4</td><td style=\"text-align: right;\">         350</td><td style=\"text-align: right;\">          2</td><td style=\"text-align: right;\">          4</td><td style=\"text-align: right;\">         2</td><td style=\"text-align: right;\">         4</td><td style=\"text-align: right;\">             0</td><td style=\"text-align: right;\">             2</td><td style=\"text-align: right;\">         655</td><td style=\"text-align: right;\">             6</td><td style=\"text-align: right;\">           0</td><td style=\"text-align: right;\">        490</td><td style=\"text-align: right;\">         1145</td><td style=\"text-align: right;\">          0</td><td style=\"text-align: right;\">           1</td><td style=\"text-align: right;\">      1145</td><td style=\"text-align: right;\">      1053</td><td style=\"text-align: right;\">             0</td><td style=\"text-align: right;\">       2198</td><td style=\"text-align: right;\">             1</td><td style=\"text-align: right;\">             0</td><td style=\"text-align: right;\">         2</td><td style=\"text-align: right;\">         1</td><td style=\"text-align: right;\">             4</td><td style=\"text-align: right;\">             1</td><td style=\"text-align: right;\">            2</td><td style=\"text-align: right;\">             9</td><td style=\"text-align: right;\">           6</td><td style=\"text-align: right;\">           1</td><td style=\"text-align: right;\">            5</td><td style=\"text-align: right;\">             2</td><td style=\"text-align: right;\">           3</td><td style=\"text-align: right;\">         836</td><td style=\"text-align: right;\">           5</td><td style=\"text-align: right;\">           5</td><td style=\"text-align: right;\">           2</td><td style=\"text-align: right;\">         192</td><td style=\"text-align: right;\">           84</td><td style=\"text-align: right;\">              0</td><td style=\"text-align: right;\">          0</td><td style=\"text-align: right;\">            0</td><td style=\"text-align: right;\">         0</td><td style=\"text-align: right;\">       3</td><td style=\"text-align: right;\">      4</td><td style=\"text-align: right;\">        0</td><td style=\"text-align: right;\">       3</td><td style=\"text-align: right;\">       2</td><td style=\"text-align: right;\">     250000</td><td style=\"text-align: right;\">         20</td><td style=\"text-align: right;\">              20</td><td style=\"text-align: right;\">          20</td><td style=\"text-align: right;\">     3343</td></tr>\n",
       "<tr><td style=\"text-align: right;\">           9</td><td style=\"text-align: right;\">        85   </td><td style=\"text-align: right;\">    14115</td><td style=\"text-align: right;\">       1</td><td style=\"text-align: right;\">      1</td><td style=\"text-align: right;\">         0</td><td style=\"text-align: right;\">          0</td><td style=\"text-align: right;\">            5</td><td style=\"text-align: right;\">            4</td><td style=\"text-align: right;\">           0</td><td style=\"text-align: right;\">          3</td><td style=\"text-align: right;\">          4</td><td style=\"text-align: right;\">         2</td><td style=\"text-align: right;\">         4</td><td style=\"text-align: right;\">             3</td><td style=\"text-align: right;\">             2</td><td style=\"text-align: right;\">         732</td><td style=\"text-align: right;\">             6</td><td style=\"text-align: right;\">           0</td><td style=\"text-align: right;\">         64</td><td style=\"text-align: right;\">          796</td><td style=\"text-align: right;\">          0</td><td style=\"text-align: right;\">           1</td><td style=\"text-align: right;\">       796</td><td style=\"text-align: right;\">       566</td><td style=\"text-align: right;\">             0</td><td style=\"text-align: right;\">       1362</td><td style=\"text-align: right;\">             1</td><td style=\"text-align: right;\">             0</td><td style=\"text-align: right;\">         1</td><td style=\"text-align: right;\">         1</td><td style=\"text-align: right;\">             1</td><td style=\"text-align: right;\">             1</td><td style=\"text-align: right;\">            3</td><td style=\"text-align: right;\">             5</td><td style=\"text-align: right;\">           6</td><td style=\"text-align: right;\">           0</td><td style=\"text-align: right;\">            3</td><td style=\"text-align: right;\">             3</td><td style=\"text-align: right;\">           2</td><td style=\"text-align: right;\">         480</td><td style=\"text-align: right;\">           5</td><td style=\"text-align: right;\">           5</td><td style=\"text-align: right;\">           2</td><td style=\"text-align: right;\">          40</td><td style=\"text-align: right;\">           30</td><td style=\"text-align: right;\">              0</td><td style=\"text-align: right;\">        320</td><td style=\"text-align: right;\">            0</td><td style=\"text-align: right;\">         0</td><td style=\"text-align: right;\">       3</td><td style=\"text-align: right;\">      2</td><td style=\"text-align: right;\">      700</td><td style=\"text-align: right;\">       1</td><td style=\"text-align: right;\">       3</td><td style=\"text-align: right;\">     143000</td><td style=\"text-align: right;\">         27</td><td style=\"text-align: right;\">              25</td><td style=\"text-align: right;\">          27</td><td style=\"text-align: right;\">     2158</td></tr>\n",
       "<tr><td style=\"text-align: right;\">           5</td><td style=\"text-align: right;\">        75   </td><td style=\"text-align: right;\">    10084</td><td style=\"text-align: right;\">       1</td><td style=\"text-align: right;\">      1</td><td style=\"text-align: right;\">         3</td><td style=\"text-align: right;\">          0</td><td style=\"text-align: right;\">            8</td><td style=\"text-align: right;\">            4</td><td style=\"text-align: right;\">         186</td><td style=\"text-align: right;\">          2</td><td style=\"text-align: right;\">          4</td><td style=\"text-align: right;\">         0</td><td style=\"text-align: right;\">         4</td><td style=\"text-align: right;\">             0</td><td style=\"text-align: right;\">             2</td><td style=\"text-align: right;\">        1369</td><td style=\"text-align: right;\">             6</td><td style=\"text-align: right;\">           0</td><td style=\"text-align: right;\">        317</td><td style=\"text-align: right;\">         1686</td><td style=\"text-align: right;\">          0</td><td style=\"text-align: right;\">           1</td><td style=\"text-align: right;\">      1694</td><td style=\"text-align: right;\">         0</td><td style=\"text-align: right;\">             0</td><td style=\"text-align: right;\">       1694</td><td style=\"text-align: right;\">             1</td><td style=\"text-align: right;\">             0</td><td style=\"text-align: right;\">         2</td><td style=\"text-align: right;\">         0</td><td style=\"text-align: right;\">             3</td><td style=\"text-align: right;\">             1</td><td style=\"text-align: right;\">            2</td><td style=\"text-align: right;\">             7</td><td style=\"text-align: right;\">           6</td><td style=\"text-align: right;\">           1</td><td style=\"text-align: right;\">            2</td><td style=\"text-align: right;\">             2</td><td style=\"text-align: right;\">           2</td><td style=\"text-align: right;\">         636</td><td style=\"text-align: right;\">           5</td><td style=\"text-align: right;\">           5</td><td style=\"text-align: right;\">           2</td><td style=\"text-align: right;\">         255</td><td style=\"text-align: right;\">           57</td><td style=\"text-align: right;\">              0</td><td style=\"text-align: right;\">          0</td><td style=\"text-align: right;\">            0</td><td style=\"text-align: right;\">         0</td><td style=\"text-align: right;\">       3</td><td style=\"text-align: right;\">      4</td><td style=\"text-align: right;\">        0</td><td style=\"text-align: right;\">      10</td><td style=\"text-align: right;\">       1</td><td style=\"text-align: right;\">     307000</td><td style=\"text-align: right;\">         16</td><td style=\"text-align: right;\">              15</td><td style=\"text-align: right;\">          16</td><td style=\"text-align: right;\">     3380</td></tr>\n",
       "<tr><td style=\"text-align: right;\">          10</td><td style=\"text-align: right;\">        87.18</td><td style=\"text-align: right;\">    10382</td><td style=\"text-align: right;\">       1</td><td style=\"text-align: right;\">      1</td><td style=\"text-align: right;\">         0</td><td style=\"text-align: right;\">          0</td><td style=\"text-align: right;\">            7</td><td style=\"text-align: right;\">            5</td><td style=\"text-align: right;\">         240</td><td style=\"text-align: right;\">          3</td><td style=\"text-align: right;\">          4</td><td style=\"text-align: right;\">         2</td><td style=\"text-align: right;\">         4</td><td style=\"text-align: right;\">             2</td><td style=\"text-align: right;\">             0</td><td style=\"text-align: right;\">         859</td><td style=\"text-align: right;\">             1</td><td style=\"text-align: right;\">          32</td><td style=\"text-align: right;\">        216</td><td style=\"text-align: right;\">         1107</td><td style=\"text-align: right;\">          0</td><td style=\"text-align: right;\">           1</td><td style=\"text-align: right;\">      1107</td><td style=\"text-align: right;\">       983</td><td style=\"text-align: right;\">             0</td><td style=\"text-align: right;\">       2090</td><td style=\"text-align: right;\">             1</td><td style=\"text-align: right;\">             0</td><td style=\"text-align: right;\">         2</td><td style=\"text-align: right;\">         1</td><td style=\"text-align: right;\">             3</td><td style=\"text-align: right;\">             1</td><td style=\"text-align: right;\">            3</td><td style=\"text-align: right;\">             7</td><td style=\"text-align: right;\">           6</td><td style=\"text-align: right;\">           2</td><td style=\"text-align: right;\">            5</td><td style=\"text-align: right;\">             2</td><td style=\"text-align: right;\">           2</td><td style=\"text-align: right;\">         484</td><td style=\"text-align: right;\">           5</td><td style=\"text-align: right;\">           5</td><td style=\"text-align: right;\">           2</td><td style=\"text-align: right;\">         235</td><td style=\"text-align: right;\">          204</td><td style=\"text-align: right;\">            228</td><td style=\"text-align: right;\">          0</td><td style=\"text-align: right;\">            0</td><td style=\"text-align: right;\">         0</td><td style=\"text-align: right;\">       3</td><td style=\"text-align: right;\">      4</td><td style=\"text-align: right;\">      350</td><td style=\"text-align: right;\">       2</td><td style=\"text-align: right;\">       3</td><td style=\"text-align: right;\">     200000</td><td style=\"text-align: right;\">         47</td><td style=\"text-align: right;\">              47</td><td style=\"text-align: right;\">          47</td><td style=\"text-align: right;\">     3197</td></tr>\n",
       "<tr><td style=\"text-align: right;\">           9</td><td style=\"text-align: right;\">        51   </td><td style=\"text-align: right;\">     6120</td><td style=\"text-align: right;\">       1</td><td style=\"text-align: right;\">      1</td><td style=\"text-align: right;\">         3</td><td style=\"text-align: right;\">          0</td><td style=\"text-align: right;\">            7</td><td style=\"text-align: right;\">            4</td><td style=\"text-align: right;\">           0</td><td style=\"text-align: right;\">          3</td><td style=\"text-align: right;\">          4</td><td style=\"text-align: right;\">         4</td><td style=\"text-align: right;\">         4</td><td style=\"text-align: right;\">             3</td><td style=\"text-align: right;\">             6</td><td style=\"text-align: right;\">           0</td><td style=\"text-align: right;\">             6</td><td style=\"text-align: right;\">           0</td><td style=\"text-align: right;\">        952</td><td style=\"text-align: right;\">          952</td><td style=\"text-align: right;\">          2</td><td style=\"text-align: right;\">           1</td><td style=\"text-align: right;\">      1022</td><td style=\"text-align: right;\">       752</td><td style=\"text-align: right;\">             0</td><td style=\"text-align: right;\">       1774</td><td style=\"text-align: right;\">             0</td><td style=\"text-align: right;\">             0</td><td style=\"text-align: right;\">         2</td><td style=\"text-align: right;\">         0</td><td style=\"text-align: right;\">             2</td><td style=\"text-align: right;\">             2</td><td style=\"text-align: right;\">            3</td><td style=\"text-align: right;\">             8</td><td style=\"text-align: right;\">           2</td><td style=\"text-align: right;\">           2</td><td style=\"text-align: right;\">            5</td><td style=\"text-align: right;\">             3</td><td style=\"text-align: right;\">           2</td><td style=\"text-align: right;\">         468</td><td style=\"text-align: right;\">           1</td><td style=\"text-align: right;\">           5</td><td style=\"text-align: right;\">           2</td><td style=\"text-align: right;\">          90</td><td style=\"text-align: right;\">            0</td><td style=\"text-align: right;\">            205</td><td style=\"text-align: right;\">          0</td><td style=\"text-align: right;\">            0</td><td style=\"text-align: right;\">         0</td><td style=\"text-align: right;\">       3</td><td style=\"text-align: right;\">      4</td><td style=\"text-align: right;\">        0</td><td style=\"text-align: right;\">       6</td><td style=\"text-align: right;\">       2</td><td style=\"text-align: right;\">     129900</td><td style=\"text-align: right;\">         89</td><td style=\"text-align: right;\">              70</td><td style=\"text-align: right;\">          89</td><td style=\"text-align: right;\">     2726</td></tr>\n",
       "<tr><td style=\"text-align: right;\">           4</td><td style=\"text-align: right;\">        50   </td><td style=\"text-align: right;\">     7420</td><td style=\"text-align: right;\">       1</td><td style=\"text-align: right;\">      1</td><td style=\"text-align: right;\">         3</td><td style=\"text-align: right;\">          0</td><td style=\"text-align: right;\">            5</td><td style=\"text-align: right;\">            5</td><td style=\"text-align: right;\">           0</td><td style=\"text-align: right;\">          3</td><td style=\"text-align: right;\">          4</td><td style=\"text-align: right;\">         4</td><td style=\"text-align: right;\">         4</td><td style=\"text-align: right;\">             3</td><td style=\"text-align: right;\">             2</td><td style=\"text-align: right;\">         851</td><td style=\"text-align: right;\">             6</td><td style=\"text-align: right;\">           0</td><td style=\"text-align: right;\">        140</td><td style=\"text-align: right;\">          991</td><td style=\"text-align: right;\">          0</td><td style=\"text-align: right;\">           1</td><td style=\"text-align: right;\">      1077</td><td style=\"text-align: right;\">         0</td><td style=\"text-align: right;\">             0</td><td style=\"text-align: right;\">       1077</td><td style=\"text-align: right;\">             1</td><td style=\"text-align: right;\">             0</td><td style=\"text-align: right;\">         1</td><td style=\"text-align: right;\">         0</td><td style=\"text-align: right;\">             2</td><td style=\"text-align: right;\">             2</td><td style=\"text-align: right;\">            3</td><td style=\"text-align: right;\">             5</td><td style=\"text-align: right;\">           6</td><td style=\"text-align: right;\">           2</td><td style=\"text-align: right;\">            5</td><td style=\"text-align: right;\">             2</td><td style=\"text-align: right;\">           1</td><td style=\"text-align: right;\">         205</td><td style=\"text-align: right;\">           2</td><td style=\"text-align: right;\">           5</td><td style=\"text-align: right;\">           2</td><td style=\"text-align: right;\">           0</td><td style=\"text-align: right;\">            4</td><td style=\"text-align: right;\">              0</td><td style=\"text-align: right;\">          0</td><td style=\"text-align: right;\">            0</td><td style=\"text-align: right;\">         0</td><td style=\"text-align: right;\">       3</td><td style=\"text-align: right;\">      4</td><td style=\"text-align: right;\">        0</td><td style=\"text-align: right;\">       0</td><td style=\"text-align: right;\">       2</td><td style=\"text-align: right;\">     118000</td><td style=\"text-align: right;\">         81</td><td style=\"text-align: right;\">              70</td><td style=\"text-align: right;\">          81</td><td style=\"text-align: right;\">     2068</td></tr>\n",
       "</tbody>\n",
       "</table>"
      ]
     },
     "metadata": {},
     "output_type": "display_data"
    },
    {
     "data": {
      "text/plain": []
     },
     "execution_count": 13,
     "metadata": {},
     "output_type": "execute_result"
    }
   ],
   "source": [
    "hf"
   ]
  },
  {
   "cell_type": "code",
   "execution_count": 22,
   "metadata": {},
   "outputs": [],
   "source": [
    "hyper_params = {'alpha': [0, .25, .5, .75, .1]\n",
    "                ,'lambda':[1, 0.5, 0.1, 0.01, 0.001, 0.0001, 0.00001, 0]\n",
    "               }\n",
    "\n",
    "glm = H2OGeneralizedLinearEstimator(family = 'gaussian',standardize = True,lambda_search = True)\n",
    "\n",
    "# build grid search with previously made GLM and hyperparameters\n",
    "grid = H2OGridSearch(model = glm, hyper_params = hyper_params,\n",
    "                     search_criteria = {'strategy': \"Cartesian\"})\n",
    "\n",
    "\n",
    "grid.train(x = predictors, y = response, training_frame = hf,nfolds=5,seed=1)\n"
   ]
  },
  {
   "cell_type": "code",
   "execution_count": 23,
   "metadata": {},
   "outputs": [
    {
     "name": "stdout",
     "output_type": "stream",
     "text": [
      "\n",
      "Cross-Validation Metrics Summary: \n"
     ]
    },
    {
     "data": {
      "text/html": [
       "<div>\n",
       "<style scoped>\n",
       "    .dataframe tbody tr th:only-of-type {\n",
       "        vertical-align: middle;\n",
       "    }\n",
       "\n",
       "    .dataframe tbody tr th {\n",
       "        vertical-align: top;\n",
       "    }\n",
       "\n",
       "    .dataframe thead th {\n",
       "        text-align: right;\n",
       "    }\n",
       "</style>\n",
       "<table border=\"1\" class=\"dataframe\">\n",
       "  <thead>\n",
       "    <tr style=\"text-align: right;\">\n",
       "      <th></th>\n",
       "      <th></th>\n",
       "      <th>mean</th>\n",
       "      <th>sd</th>\n",
       "      <th>cv_1_valid</th>\n",
       "      <th>cv_2_valid</th>\n",
       "      <th>cv_3_valid</th>\n",
       "      <th>cv_4_valid</th>\n",
       "      <th>cv_5_valid</th>\n",
       "    </tr>\n",
       "  </thead>\n",
       "  <tbody>\n",
       "    <tr>\n",
       "      <th>0</th>\n",
       "      <td>mae</td>\n",
       "      <td>20019.707</td>\n",
       "      <td>1298.3903</td>\n",
       "      <td>22064.824</td>\n",
       "      <td>18918.045</td>\n",
       "      <td>18896.162</td>\n",
       "      <td>20294.871</td>\n",
       "      <td>19924.633</td>\n",
       "    </tr>\n",
       "    <tr>\n",
       "      <th>1</th>\n",
       "      <td>mean_residual_deviance</td>\n",
       "      <td>1.28539021E9</td>\n",
       "      <td>3.49272736E8</td>\n",
       "      <td>1.4776832E9</td>\n",
       "      <td>1.18287488E9</td>\n",
       "      <td>1.79428634E9</td>\n",
       "      <td>9.5214541E8</td>\n",
       "      <td>1.01996147E9</td>\n",
       "    </tr>\n",
       "    <tr>\n",
       "      <th>2</th>\n",
       "      <td>mse</td>\n",
       "      <td>1.28539021E9</td>\n",
       "      <td>3.49272736E8</td>\n",
       "      <td>1.4776832E9</td>\n",
       "      <td>1.18287488E9</td>\n",
       "      <td>1.79428634E9</td>\n",
       "      <td>9.5214541E8</td>\n",
       "      <td>1.01996147E9</td>\n",
       "    </tr>\n",
       "    <tr>\n",
       "      <th>3</th>\n",
       "      <td>null_deviance</td>\n",
       "      <td>1.84226152E12</td>\n",
       "      <td>2.70834991E11</td>\n",
       "      <td>2.2061714E12</td>\n",
       "      <td>1.58684388E12</td>\n",
       "      <td>1.77678608E12</td>\n",
       "      <td>1.60800283E12</td>\n",
       "      <td>2.0335037E12</td>\n",
       "    </tr>\n",
       "    <tr>\n",
       "      <th>4</th>\n",
       "      <td>r2</td>\n",
       "      <td>0.79335535</td>\n",
       "      <td>0.061788876</td>\n",
       "      <td>0.80104643</td>\n",
       "      <td>0.78603035</td>\n",
       "      <td>0.6940016</td>\n",
       "      <td>0.8289173</td>\n",
       "      <td>0.8567811</td>\n",
       "    </tr>\n",
       "    <tr>\n",
       "      <th>5</th>\n",
       "      <td>residual_deviance</td>\n",
       "      <td>3.77386533E11</td>\n",
       "      <td>1.12945766E11</td>\n",
       "      <td>4.38871917E11</td>\n",
       "      <td>3.39485065E11</td>\n",
       "      <td>5.43668765E11</td>\n",
       "      <td>2.74217878E11</td>\n",
       "      <td>2.90689024E11</td>\n",
       "    </tr>\n",
       "    <tr>\n",
       "      <th>6</th>\n",
       "      <td>rmse</td>\n",
       "      <td>35597.258</td>\n",
       "      <td>4773.016</td>\n",
       "      <td>38440.645</td>\n",
       "      <td>34392.945</td>\n",
       "      <td>42359.016</td>\n",
       "      <td>30856.854</td>\n",
       "      <td>31936.836</td>\n",
       "    </tr>\n",
       "    <tr>\n",
       "      <th>7</th>\n",
       "      <td>rmsle</td>\n",
       "      <td>0.15422444</td>\n",
       "      <td>0.009988594</td>\n",
       "      <td>0.16284959</td>\n",
       "      <td>0.13941681</td>\n",
       "      <td>0.16043614</td>\n",
       "      <td>0.15999098</td>\n",
       "      <td>0.14842866</td>\n",
       "    </tr>\n",
       "  </tbody>\n",
       "</table>\n",
       "</div>"
      ],
      "text/plain": [
       "                                    mean             sd     cv_1_valid  \\\n",
       "0                     mae      20019.707      1298.3903      22064.824   \n",
       "1  mean_residual_deviance   1.28539021E9   3.49272736E8    1.4776832E9   \n",
       "2                     mse   1.28539021E9   3.49272736E8    1.4776832E9   \n",
       "3           null_deviance  1.84226152E12  2.70834991E11   2.2061714E12   \n",
       "4                      r2     0.79335535    0.061788876     0.80104643   \n",
       "5       residual_deviance  3.77386533E11  1.12945766E11  4.38871917E11   \n",
       "6                    rmse      35597.258       4773.016      38440.645   \n",
       "7                   rmsle     0.15422444    0.009988594     0.16284959   \n",
       "\n",
       "      cv_2_valid     cv_3_valid     cv_4_valid     cv_5_valid  \n",
       "0      18918.045      18896.162      20294.871      19924.633  \n",
       "1   1.18287488E9   1.79428634E9    9.5214541E8   1.01996147E9  \n",
       "2   1.18287488E9   1.79428634E9    9.5214541E8   1.01996147E9  \n",
       "3  1.58684388E12  1.77678608E12  1.60800283E12   2.0335037E12  \n",
       "4     0.78603035      0.6940016      0.8289173      0.8567811  \n",
       "5  3.39485065E11  5.43668765E11  2.74217878E11  2.90689024E11  \n",
       "6      34392.945      42359.016      30856.854      31936.836  \n",
       "7     0.13941681     0.16043614     0.15999098     0.14842866  "
      ]
     },
     "metadata": {},
     "output_type": "display_data"
    },
    {
     "data": {
      "text/plain": []
     },
     "execution_count": 23,
     "metadata": {},
     "output_type": "execute_result"
    }
   ],
   "source": [
    "sorted_grid = grid.get_grid(sort_by='RMSE', decreasing=False)\n",
    "best_model = sorted_grid.models[0]\n",
    "best_model.cross_validation_metrics_summary()"
   ]
  },
  {
   "cell_type": "code",
   "execution_count": 24,
   "metadata": {
    "scrolled": true
   },
   "outputs": [],
   "source": [
    "pred =  best_model.predict(gf)\n"
   ]
  },
  {
   "cell_type": "code",
   "execution_count": 25,
   "metadata": {},
   "outputs": [
    {
     "data": {
      "text/html": [
       "<table>\n",
       "<thead>\n",
       "<tr><th style=\"text-align: right;\">  predict</th></tr>\n",
       "</thead>\n",
       "<tbody>\n",
       "<tr><td style=\"text-align: right;\">   112957</td></tr>\n",
       "<tr><td style=\"text-align: right;\">   159667</td></tr>\n",
       "<tr><td style=\"text-align: right;\">   178799</td></tr>\n",
       "<tr><td style=\"text-align: right;\">   202000</td></tr>\n",
       "<tr><td style=\"text-align: right;\">   195490</td></tr>\n",
       "<tr><td style=\"text-align: right;\">   175771</td></tr>\n",
       "<tr><td style=\"text-align: right;\">   187292</td></tr>\n",
       "<tr><td style=\"text-align: right;\">   172842</td></tr>\n",
       "<tr><td style=\"text-align: right;\">   188146</td></tr>\n",
       "<tr><td style=\"text-align: right;\">   115078</td></tr>\n",
       "</tbody>\n",
       "</table>"
      ]
     },
     "metadata": {},
     "output_type": "display_data"
    },
    {
     "data": {
      "text/plain": []
     },
     "execution_count": 25,
     "metadata": {},
     "output_type": "execute_result"
    }
   ],
   "source": [
    "pred"
   ]
  },
  {
   "cell_type": "code",
   "execution_count": 33,
   "metadata": {},
   "outputs": [
    {
     "data": {
      "image/png": "[encoded data removed]",
      "text/plain": [
       "<matplotlib.figure.Figure at 0x7f82e3a39cf8>"
      ]
     },
     "metadata": {},
     "output_type": "display_data"
    }
   ],
   "source": [
    "#COEFFICIENTS PLOT\n",
    "#We can change the number of features\n",
    "best_model.std_coef_plot(num_of_features = 20)"
   ]
  }
 ],
 "metadata": {
  "kernelspec": {
   "display_name": "Python 3",
   "language": "python",
   "name": "python3"
  },
  "language_info": {
   "codemirror_mode": {
    "name": "ipython",
    "version": 3
   },
   "file_extension": ".py",
   "mimetype": "text/x-python",
   "name": "python",
   "nbconvert_exporter": "python",
   "pygments_lexer": "ipython3",
   "version": "3.6.4"
  }
 },
 "nbformat": 4,
 "nbformat_minor": 2
}
