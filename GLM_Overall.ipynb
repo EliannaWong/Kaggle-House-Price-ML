{
 "cells": [
  {
   "cell_type": "code",
   "execution_count": 181,
   "metadata": {},
   "outputs": [],
   "source": [
    "#libraries we need\n",
    "import pandas as pd\n",
    "import numpy as np\n",
    "import seaborn as sns\n",
    "import matplotlib.pyplot as plt\n",
    "from datetime import datetime\n",
    "from datetime import date\n",
    "pd.options.mode.chained_assignment = None\n",
    "import h2o\n",
    "from sklearn.model_selection import train_test_split\n",
    "from h2o.estimators.glm import H2OGeneralizedLinearEstimator\n",
    "from h2o.grid.grid_search import H2OGridSearch"
   ]
  },
  {
   "cell_type": "code",
   "execution_count": 195,
   "metadata": {},
   "outputs": [
    {
     "name": "stdout",
     "output_type": "stream",
     "text": [
      "Checking whether there is an H2O instance running at http://localhost:54321 . connected.\n"
     ]
    },
    {
     "data": {
      "text/html": [
       "<div style=\"overflow:auto\"><table style=\"width:50%\"><tr><td>H2O_cluster_uptime:</td>\n",
       "<td>2 hours 59 mins</td></tr>\n",
       "<tr><td>H2O_cluster_timezone:</td>\n",
       "<td>America/Los_Angeles</td></tr>\n",
       "<tr><td>H2O_data_parsing_timezone:</td>\n",
       "<td>UTC</td></tr>\n",
       "<tr><td>H2O_cluster_version:</td>\n",
       "<td>3.30.0.5</td></tr>\n",
       "<tr><td>H2O_cluster_version_age:</td>\n",
       "<td>6 days </td></tr>\n",
       "<tr><td>H2O_cluster_name:</td>\n",
       "<td>H2O_from_python_vibhz_r14fx0</td></tr>\n",
       "<tr><td>H2O_cluster_total_nodes:</td>\n",
       "<td>1</td></tr>\n",
       "<tr><td>H2O_cluster_free_memory:</td>\n",
       "<td>21.25 Gb</td></tr>\n",
       "<tr><td>H2O_cluster_total_cores:</td>\n",
       "<td>8</td></tr>\n",
       "<tr><td>H2O_cluster_allowed_cores:</td>\n",
       "<td>4</td></tr>\n",
       "<tr><td>H2O_cluster_status:</td>\n",
       "<td>locked, healthy</td></tr>\n",
       "<tr><td>H2O_connection_url:</td>\n",
       "<td>http://localhost:54321</td></tr>\n",
       "<tr><td>H2O_connection_proxy:</td>\n",
       "<td>{\"http\": null, \"https\": null}</td></tr>\n",
       "<tr><td>H2O_internal_security:</td>\n",
       "<td>False</td></tr>\n",
       "<tr><td>H2O_API_Extensions:</td>\n",
       "<td>Amazon S3, XGBoost, Algos, AutoML, Core V3, TargetEncoder, Core V4</td></tr>\n",
       "<tr><td>Python_version:</td>\n",
       "<td>3.6.4 final</td></tr></table></div>"
      ],
      "text/plain": [
       "--------------------------  ------------------------------------------------------------------\n",
       "H2O_cluster_uptime:         2 hours 59 mins\n",
       "H2O_cluster_timezone:       America/Los_Angeles\n",
       "H2O_data_parsing_timezone:  UTC\n",
       "H2O_cluster_version:        3.30.0.5\n",
       "H2O_cluster_version_age:    6 days\n",
       "H2O_cluster_name:           H2O_from_python_vibhz_r14fx0\n",
       "H2O_cluster_total_nodes:    1\n",
       "H2O_cluster_free_memory:    21.25 Gb\n",
       "H2O_cluster_total_cores:    8\n",
       "H2O_cluster_allowed_cores:  4\n",
       "H2O_cluster_status:         locked, healthy\n",
       "H2O_connection_url:         http://localhost:54321\n",
       "H2O_connection_proxy:       {\"http\": null, \"https\": null}\n",
       "H2O_internal_security:      False\n",
       "H2O_API_Extensions:         Amazon S3, XGBoost, Algos, AutoML, Core V3, TargetEncoder, Core V4\n",
       "Python_version:             3.6.4 final\n",
       "--------------------------  ------------------------------------------------------------------"
      ]
     },
     "metadata": {},
     "output_type": "display_data"
    }
   ],
   "source": [
    "h2o.init(max_mem_size='24G', nthreads=4) # start h2o with plenty of memory and threads\n",
    "h2o.remove_all()                         # clears h2o memory\n",
    "h2o.no_progress()                        # turn off h2o progress indicators"
   ]
  },
  {
   "cell_type": "code",
   "execution_count": 196,
   "metadata": {},
   "outputs": [],
   "source": [
    "#Import cleaned files \n",
    "train_df = pd.read_csv('./House-Prices-Data/new_train.csv')\n",
    "test_df = pd.read_csv('./House-Prices-Data/new_test.csv').drop(['SalePrice'],axis=1)\n",
    "#train_df.head(5)"
   ]
  },
  {
   "cell_type": "code",
   "execution_count": 197,
   "metadata": {},
   "outputs": [],
   "source": [
    "train_df = pd.get_dummies(train_df)\n",
    "test_df = pd.get_dummies(test_df)"
   ]
  },
  {
   "cell_type": "code",
   "execution_count": 198,
   "metadata": {},
   "outputs": [],
   "source": [
    "train_y = train_df['SalePrice']\n",
    "train_x = train_df.drop('SalePrice', axis = 1)"
   ]
  },
  {
   "cell_type": "code",
   "execution_count": 199,
   "metadata": {},
   "outputs": [],
   "source": [
    "response = 'SalePrice'\n",
    "predictors = list(X_train.columns.values)"
   ]
  },
  {
   "cell_type": "code",
   "execution_count": 200,
   "metadata": {},
   "outputs": [],
   "source": [
    "hf=h2o.H2OFrame(train_df)\n",
    "gf=h2o.H2OFrame(test_df)"
   ]
  },
  {
   "cell_type": "code",
   "execution_count": 205,
   "metadata": {},
   "outputs": [],
   "source": [
    "hyper_params = {'alpha': [0, .25, .5, .75, .1]\n",
    "                ,'lambda':[1, 0.5, 0.1, 0.01, 0.001, 0.0001, 0.00001, 0]\n",
    "               }\n",
    "\n",
    "glm = H2OGeneralizedLinearEstimator(family = 'gaussian',standardize = True,lambda_search = True)\n",
    "\n",
    "# build grid search with previously made GLM and hyperparameters\n",
    "grid = H2OGridSearch(model = glm, hyper_params = hyper_params,\n",
    "                     search_criteria = {'strategy': \"Cartesian\"})\n",
    "\n",
    "\n",
    "grid.train(x = predictors, y = response, training_frame = hf,nfolds=5,seed=1)\n"
   ]
  },
  {
   "cell_type": "code",
   "execution_count": 206,
   "metadata": {},
   "outputs": [
    {
     "name": "stdout",
     "output_type": "stream",
     "text": [
      "\n",
      "Cross-Validation Metrics Summary: \n"
     ]
    },
    {
     "data": {
      "text/html": [
       "<div>\n",
       "<style scoped>\n",
       "    .dataframe tbody tr th:only-of-type {\n",
       "        vertical-align: middle;\n",
       "    }\n",
       "\n",
       "    .dataframe tbody tr th {\n",
       "        vertical-align: top;\n",
       "    }\n",
       "\n",
       "    .dataframe thead th {\n",
       "        text-align: right;\n",
       "    }\n",
       "</style>\n",
       "<table border=\"1\" class=\"dataframe\">\n",
       "  <thead>\n",
       "    <tr style=\"text-align: right;\">\n",
       "      <th></th>\n",
       "      <th></th>\n",
       "      <th>mean</th>\n",
       "      <th>sd</th>\n",
       "      <th>cv_1_valid</th>\n",
       "      <th>cv_2_valid</th>\n",
       "      <th>cv_3_valid</th>\n",
       "      <th>cv_4_valid</th>\n",
       "      <th>cv_5_valid</th>\n",
       "    </tr>\n",
       "  </thead>\n",
       "  <tbody>\n",
       "    <tr>\n",
       "      <th>0</th>\n",
       "      <td>mae</td>\n",
       "      <td>17607.871</td>\n",
       "      <td>1146.3462</td>\n",
       "      <td>19647.191</td>\n",
       "      <td>17004.912</td>\n",
       "      <td>16979.883</td>\n",
       "      <td>17284.154</td>\n",
       "      <td>17123.217</td>\n",
       "    </tr>\n",
       "    <tr>\n",
       "      <th>1</th>\n",
       "      <td>mean_residual_deviance</td>\n",
       "      <td>1.07257357E9</td>\n",
       "      <td>3.27831136E8</td>\n",
       "      <td>1.23665434E9</td>\n",
       "      <td>9.2511117E8</td>\n",
       "      <td>1.56560499E9</td>\n",
       "      <td>7.5342944E8</td>\n",
       "      <td>8.8206797E8</td>\n",
       "    </tr>\n",
       "    <tr>\n",
       "      <th>2</th>\n",
       "      <td>mse</td>\n",
       "      <td>1.07257357E9</td>\n",
       "      <td>3.27831136E8</td>\n",
       "      <td>1.23665434E9</td>\n",
       "      <td>9.2511117E8</td>\n",
       "      <td>1.56560499E9</td>\n",
       "      <td>7.5342944E8</td>\n",
       "      <td>8.8206797E8</td>\n",
       "    </tr>\n",
       "    <tr>\n",
       "      <th>3</th>\n",
       "      <td>null_deviance</td>\n",
       "      <td>1.84226152E12</td>\n",
       "      <td>2.70834991E11</td>\n",
       "      <td>2.2061714E12</td>\n",
       "      <td>1.58684388E12</td>\n",
       "      <td>1.77678608E12</td>\n",
       "      <td>1.60800283E12</td>\n",
       "      <td>2.0335037E12</td>\n",
       "    </tr>\n",
       "    <tr>\n",
       "      <th>4</th>\n",
       "      <td>r2</td>\n",
       "      <td>0.8279846</td>\n",
       "      <td>0.05642642</td>\n",
       "      <td>0.8334983</td>\n",
       "      <td>0.8326571</td>\n",
       "      <td>0.733001</td>\n",
       "      <td>0.86462283</td>\n",
       "      <td>0.8761436</td>\n",
       "    </tr>\n",
       "    <tr>\n",
       "      <th>5</th>\n",
       "      <td>residual_deviance</td>\n",
       "      <td>3.15109736E11</td>\n",
       "      <td>1.05163612E11</td>\n",
       "      <td>3.67286354E11</td>\n",
       "      <td>2.65506898E11</td>\n",
       "      <td>4.74378306E11</td>\n",
       "      <td>2.16987681E11</td>\n",
       "      <td>2.51389362E11</td>\n",
       "    </tr>\n",
       "    <tr>\n",
       "      <th>6</th>\n",
       "      <td>rmse</td>\n",
       "      <td>32459.553</td>\n",
       "      <td>4867.1147</td>\n",
       "      <td>35166.098</td>\n",
       "      <td>30415.64</td>\n",
       "      <td>39567.727</td>\n",
       "      <td>27448.67</td>\n",
       "      <td>29699.629</td>\n",
       "    </tr>\n",
       "    <tr>\n",
       "      <th>7</th>\n",
       "      <td>rmsle</td>\n",
       "      <td>0.14254805</td>\n",
       "      <td>0.009989087</td>\n",
       "      <td>0.15076812</td>\n",
       "      <td>0.1260156</td>\n",
       "      <td>0.14687236</td>\n",
       "      <td>0.148516</td>\n",
       "      <td>0.14056817</td>\n",
       "    </tr>\n",
       "  </tbody>\n",
       "</table>\n",
       "</div>"
      ],
      "text/plain": [
       "                                    mean             sd     cv_1_valid  \\\n",
       "0                     mae      17607.871      1146.3462      19647.191   \n",
       "1  mean_residual_deviance   1.07257357E9   3.27831136E8   1.23665434E9   \n",
       "2                     mse   1.07257357E9   3.27831136E8   1.23665434E9   \n",
       "3           null_deviance  1.84226152E12  2.70834991E11   2.2061714E12   \n",
       "4                      r2      0.8279846     0.05642642      0.8334983   \n",
       "5       residual_deviance  3.15109736E11  1.05163612E11  3.67286354E11   \n",
       "6                    rmse      32459.553      4867.1147      35166.098   \n",
       "7                   rmsle     0.14254805    0.009989087     0.15076812   \n",
       "\n",
       "      cv_2_valid     cv_3_valid     cv_4_valid     cv_5_valid  \n",
       "0      17004.912      16979.883      17284.154      17123.217  \n",
       "1    9.2511117E8   1.56560499E9    7.5342944E8    8.8206797E8  \n",
       "2    9.2511117E8   1.56560499E9    7.5342944E8    8.8206797E8  \n",
       "3  1.58684388E12  1.77678608E12  1.60800283E12   2.0335037E12  \n",
       "4      0.8326571       0.733001     0.86462283      0.8761436  \n",
       "5  2.65506898E11  4.74378306E11  2.16987681E11  2.51389362E11  \n",
       "6       30415.64      39567.727       27448.67      29699.629  \n",
       "7      0.1260156     0.14687236       0.148516     0.14056817  "
      ]
     },
     "metadata": {},
     "output_type": "display_data"
    },
    {
     "data": {
      "text/plain": []
     },
     "execution_count": 206,
     "metadata": {},
     "output_type": "execute_result"
    }
   ],
   "source": [
    "sorted_grid = grid.get_grid(sort_by='RMSE', decreasing=False)\n",
    "best_model = sorted_grid.models[0]\n",
    "best_model.cross_validation_metrics_summary()"
   ]
  },
  {
   "cell_type": "code",
   "execution_count": 211,
   "metadata": {
    "scrolled": true
   },
   "outputs": [
    {
     "name": "stderr",
     "output_type": "stream",
     "text": [
      "/Users/vibhz/anaconda3/lib/python3.6/site-packages/h2o/job.py:70: UserWarning: Test/Validation dataset is missing column 'Utilities_NoSeWa': substituting in a column of NaN\n",
      "  warnings.warn(w)\n",
      "/Users/vibhz/anaconda3/lib/python3.6/site-packages/h2o/job.py:70: UserWarning: Test/Validation dataset is missing column 'Condition2_RRAe': substituting in a column of NaN\n",
      "  warnings.warn(w)\n",
      "/Users/vibhz/anaconda3/lib/python3.6/site-packages/h2o/job.py:70: UserWarning: Test/Validation dataset is missing column 'Condition2_RRAn': substituting in a column of NaN\n",
      "  warnings.warn(w)\n",
      "/Users/vibhz/anaconda3/lib/python3.6/site-packages/h2o/job.py:70: UserWarning: Test/Validation dataset is missing column 'Condition2_RRNn': substituting in a column of NaN\n",
      "  warnings.warn(w)\n",
      "/Users/vibhz/anaconda3/lib/python3.6/site-packages/h2o/job.py:70: UserWarning: Test/Validation dataset is missing column 'HouseStyle_2.5Fin': substituting in a column of NaN\n",
      "  warnings.warn(w)\n",
      "/Users/vibhz/anaconda3/lib/python3.6/site-packages/h2o/job.py:70: UserWarning: Test/Validation dataset is missing column 'RoofMatl_ClyTile': substituting in a column of NaN\n",
      "  warnings.warn(w)\n",
      "/Users/vibhz/anaconda3/lib/python3.6/site-packages/h2o/job.py:70: UserWarning: Test/Validation dataset is missing column 'RoofMatl_Membran': substituting in a column of NaN\n",
      "  warnings.warn(w)\n",
      "/Users/vibhz/anaconda3/lib/python3.6/site-packages/h2o/job.py:70: UserWarning: Test/Validation dataset is missing column 'RoofMatl_Metal': substituting in a column of NaN\n",
      "  warnings.warn(w)\n",
      "/Users/vibhz/anaconda3/lib/python3.6/site-packages/h2o/job.py:70: UserWarning: Test/Validation dataset is missing column 'RoofMatl_Roll': substituting in a column of NaN\n",
      "  warnings.warn(w)\n",
      "/Users/vibhz/anaconda3/lib/python3.6/site-packages/h2o/job.py:70: UserWarning: Test/Validation dataset is missing column 'Exterior1st_ImStucc': substituting in a column of NaN\n",
      "  warnings.warn(w)\n",
      "/Users/vibhz/anaconda3/lib/python3.6/site-packages/h2o/job.py:70: UserWarning: Test/Validation dataset is missing column 'Exterior1st_Stone': substituting in a column of NaN\n",
      "  warnings.warn(w)\n",
      "/Users/vibhz/anaconda3/lib/python3.6/site-packages/h2o/job.py:70: UserWarning: Test/Validation dataset is missing column 'Exterior2nd_Other': substituting in a column of NaN\n",
      "  warnings.warn(w)\n",
      "/Users/vibhz/anaconda3/lib/python3.6/site-packages/h2o/job.py:70: UserWarning: Test/Validation dataset is missing column 'Heating_Floor': substituting in a column of NaN\n",
      "  warnings.warn(w)\n",
      "/Users/vibhz/anaconda3/lib/python3.6/site-packages/h2o/job.py:70: UserWarning: Test/Validation dataset is missing column 'Heating_OthW': substituting in a column of NaN\n",
      "  warnings.warn(w)\n",
      "/Users/vibhz/anaconda3/lib/python3.6/site-packages/h2o/job.py:70: UserWarning: Test/Validation dataset is missing column 'Electrical_Mix': substituting in a column of NaN\n",
      "  warnings.warn(w)\n",
      "/Users/vibhz/anaconda3/lib/python3.6/site-packages/h2o/job.py:70: UserWarning: Test/Validation dataset is missing column 'Electrical_None': substituting in a column of NaN\n",
      "  warnings.warn(w)\n",
      "/Users/vibhz/anaconda3/lib/python3.6/site-packages/h2o/job.py:70: UserWarning: Test/Validation dataset is missing column 'MiscFeature_TenC': substituting in a column of NaN\n",
      "  warnings.warn(w)\n"
     ]
    },
    {
     "data": {
      "text/html": [
       "<table>\n",
       "<thead>\n",
       "<tr><th style=\"text-align: right;\">  predict</th></tr>\n",
       "</thead>\n",
       "<tbody>\n",
       "<tr><td style=\"text-align: right;\">   110067</td></tr>\n",
       "<tr><td style=\"text-align: right;\">   163826</td></tr>\n",
       "<tr><td style=\"text-align: right;\">   179266</td></tr>\n",
       "<tr><td style=\"text-align: right;\">   191838</td></tr>\n",
       "<tr><td style=\"text-align: right;\">   212655</td></tr>\n",
       "<tr><td style=\"text-align: right;\">   168863</td></tr>\n",
       "<tr><td style=\"text-align: right;\">   176165</td></tr>\n",
       "<tr><td style=\"text-align: right;\">   165639</td></tr>\n",
       "<tr><td style=\"text-align: right;\">   182045</td></tr>\n",
       "<tr><td style=\"text-align: right;\">   116920</td></tr>\n",
       "</tbody>\n",
       "</table>"
      ]
     },
     "metadata": {},
     "output_type": "display_data"
    },
    {
     "data": {
      "text/plain": []
     },
     "execution_count": 211,
     "metadata": {},
     "output_type": "execute_result"
    }
   ],
   "source": [
    "pred =  best_model.predict(gf)\n"
   ]
  },
  {
   "cell_type": "code",
   "execution_count": 212,
   "metadata": {},
   "outputs": [
    {
     "data": {
      "text/html": [
       "<table>\n",
       "<thead>\n",
       "<tr><th style=\"text-align: right;\">  predict</th></tr>\n",
       "</thead>\n",
       "<tbody>\n",
       "<tr><td style=\"text-align: right;\">   110067</td></tr>\n",
       "<tr><td style=\"text-align: right;\">   163826</td></tr>\n",
       "<tr><td style=\"text-align: right;\">   179266</td></tr>\n",
       "<tr><td style=\"text-align: right;\">   191838</td></tr>\n",
       "<tr><td style=\"text-align: right;\">   212655</td></tr>\n",
       "<tr><td style=\"text-align: right;\">   168863</td></tr>\n",
       "<tr><td style=\"text-align: right;\">   176165</td></tr>\n",
       "<tr><td style=\"text-align: right;\">   165639</td></tr>\n",
       "<tr><td style=\"text-align: right;\">   182045</td></tr>\n",
       "<tr><td style=\"text-align: right;\">   116920</td></tr>\n",
       "</tbody>\n",
       "</table>"
      ]
     },
     "metadata": {},
     "output_type": "display_data"
    },
    {
     "data": {
      "text/plain": []
     },
     "execution_count": 212,
     "metadata": {},
     "output_type": "execute_result"
    }
   ],
   "source": [
    "pred"
   ]
  },
  {
   "cell_type": "code",
   "execution_count": 208,
   "metadata": {},
   "outputs": [
    {
     "name": "stdout",
     "output_type": "stream",
     "text": [
      "WARNING: Model metrics cannot be calculated and metric_json is empty due to the absence of the response column in your dataset.\n",
      "WARNING: Model metrics cannot be calculated and metric_json is empty due to the absence of the response column in your dataset.\n",
      "WARNING: Model metrics cannot be calculated and metric_json is empty due to the absence of the response column in your dataset.\n",
      "WARNING: Model metrics cannot be calculated and metric_json is empty due to the absence of the response column in your dataset.\n",
      "WARNING: Model metrics cannot be calculated and metric_json is empty due to the absence of the response column in your dataset.\n",
      "WARNING: Model metrics cannot be calculated and metric_json is empty due to the absence of the response column in your dataset.\n",
      "WARNING: Model metrics cannot be calculated and metric_json is empty due to the absence of the response column in your dataset.\n",
      "WARNING: Model metrics cannot be calculated and metric_json is empty due to the absence of the response column in your dataset.\n",
      "WARNING: Model metrics cannot be calculated and metric_json is empty due to the absence of the response column in your dataset.\n",
      "WARNING: Model metrics cannot be calculated and metric_json is empty due to the absence of the response column in your dataset.\n",
      "WARNING: Model metrics cannot be calculated and metric_json is empty due to the absence of the response column in your dataset.\n",
      "WARNING: Model metrics cannot be calculated and metric_json is empty due to the absence of the response column in your dataset.\n",
      "WARNING: Model metrics cannot be calculated and metric_json is empty due to the absence of the response column in your dataset.\n",
      "WARNING: Model metrics cannot be calculated and metric_json is empty due to the absence of the response column in your dataset.\n",
      "WARNING: Model metrics cannot be calculated and metric_json is empty due to the absence of the response column in your dataset.\n",
      "WARNING: Model metrics cannot be calculated and metric_json is empty due to the absence of the response column in your dataset.\n",
      "WARNING: Model metrics cannot be calculated and metric_json is empty due to the absence of the response column in your dataset.\n",
      "WARNING: Model metrics cannot be calculated and metric_json is empty due to the absence of the response column in your dataset.\n",
      "WARNING: Model metrics cannot be calculated and metric_json is empty due to the absence of the response column in your dataset.\n",
      "WARNING: Model metrics cannot be calculated and metric_json is empty due to the absence of the response column in your dataset.\n",
      "WARNING: Model metrics cannot be calculated and metric_json is empty due to the absence of the response column in your dataset.\n",
      "WARNING: Model metrics cannot be calculated and metric_json is empty due to the absence of the response column in your dataset.\n",
      "WARNING: Model metrics cannot be calculated and metric_json is empty due to the absence of the response column in your dataset.\n",
      "WARNING: Model metrics cannot be calculated and metric_json is empty due to the absence of the response column in your dataset.\n",
      "WARNING: Model metrics cannot be calculated and metric_json is empty due to the absence of the response column in your dataset.\n",
      "WARNING: Model metrics cannot be calculated and metric_json is empty due to the absence of the response column in your dataset.\n",
      "WARNING: Model metrics cannot be calculated and metric_json is empty due to the absence of the response column in your dataset.\n",
      "WARNING: Model metrics cannot be calculated and metric_json is empty due to the absence of the response column in your dataset.\n",
      "WARNING: Model metrics cannot be calculated and metric_json is empty due to the absence of the response column in your dataset.\n",
      "WARNING: Model metrics cannot be calculated and metric_json is empty due to the absence of the response column in your dataset.\n",
      "WARNING: Model metrics cannot be calculated and metric_json is empty due to the absence of the response column in your dataset.\n",
      "WARNING: Model metrics cannot be calculated and metric_json is empty due to the absence of the response column in your dataset.\n",
      "WARNING: Model metrics cannot be calculated and metric_json is empty due to the absence of the response column in your dataset.\n",
      "WARNING: Model metrics cannot be calculated and metric_json is empty due to the absence of the response column in your dataset.\n",
      "WARNING: Model metrics cannot be calculated and metric_json is empty due to the absence of the response column in your dataset.\n",
      "WARNING: Model metrics cannot be calculated and metric_json is empty due to the absence of the response column in your dataset.\n",
      "WARNING: Model metrics cannot be calculated and metric_json is empty due to the absence of the response column in your dataset.\n",
      "WARNING: Model metrics cannot be calculated and metric_json is empty due to the absence of the response column in your dataset.\n",
      "WARNING: Model metrics cannot be calculated and metric_json is empty due to the absence of the response column in your dataset.\n",
      "WARNING: Model metrics cannot be calculated and metric_json is empty due to the absence of the response column in your dataset.\n"
     ]
    },
    {
     "name": "stdout",
     "output_type": "stream",
     "text": [
      "{'Grid_GLM_Key_Frame__upload_a9789357483bf475fa4bb65210064d3f.hex_model_python_1593042533260_28_model_10': None, 'Grid_GLM_Key_Frame__upload_a9789357483bf475fa4bb65210064d3f.hex_model_python_1593042533260_28_model_3': None, 'Grid_GLM_Key_Frame__upload_a9789357483bf475fa4bb65210064d3f.hex_model_python_1593042533260_28_model_6': None, 'Grid_GLM_Key_Frame__upload_a9789357483bf475fa4bb65210064d3f.hex_model_python_1593042533260_28_model_7': None, 'Grid_GLM_Key_Frame__upload_a9789357483bf475fa4bb65210064d3f.hex_model_python_1593042533260_28_model_4': None, 'Grid_GLM_Key_Frame__upload_a9789357483bf475fa4bb65210064d3f.hex_model_python_1593042533260_28_model_8': None, 'Grid_GLM_Key_Frame__upload_a9789357483bf475fa4bb65210064d3f.hex_model_python_1593042533260_28_model_2': None, 'Grid_GLM_Key_Frame__upload_a9789357483bf475fa4bb65210064d3f.hex_model_python_1593042533260_28_model_5': None, 'Grid_GLM_Key_Frame__upload_a9789357483bf475fa4bb65210064d3f.hex_model_python_1593042533260_28_model_1': None, 'Grid_GLM_Key_Frame__upload_a9789357483bf475fa4bb65210064d3f.hex_model_python_1593042533260_28_model_9': None, 'Grid_GLM_Key_Frame__upload_a9789357483bf475fa4bb65210064d3f.hex_model_python_1593042533260_28_model_11': None, 'Grid_GLM_Key_Frame__upload_a9789357483bf475fa4bb65210064d3f.hex_model_python_1593042533260_28_model_15': None, 'Grid_GLM_Key_Frame__upload_a9789357483bf475fa4bb65210064d3f.hex_model_python_1593042533260_28_model_12': None, 'Grid_GLM_Key_Frame__upload_a9789357483bf475fa4bb65210064d3f.hex_model_python_1593042533260_28_model_13': None, 'Grid_GLM_Key_Frame__upload_a9789357483bf475fa4bb65210064d3f.hex_model_python_1593042533260_28_model_14': None, 'Grid_GLM_Key_Frame__upload_a9789357483bf475fa4bb65210064d3f.hex_model_python_1593042533260_28_model_16': None, 'Grid_GLM_Key_Frame__upload_a9789357483bf475fa4bb65210064d3f.hex_model_python_1593042533260_28_model_20': None, 'Grid_GLM_Key_Frame__upload_a9789357483bf475fa4bb65210064d3f.hex_model_python_1593042533260_28_model_17': None, 'Grid_GLM_Key_Frame__upload_a9789357483bf475fa4bb65210064d3f.hex_model_python_1593042533260_28_model_18': None, 'Grid_GLM_Key_Frame__upload_a9789357483bf475fa4bb65210064d3f.hex_model_python_1593042533260_28_model_19': None, 'Grid_GLM_Key_Frame__upload_a9789357483bf475fa4bb65210064d3f.hex_model_python_1593042533260_28_model_21': None, 'Grid_GLM_Key_Frame__upload_a9789357483bf475fa4bb65210064d3f.hex_model_python_1593042533260_28_model_25': None, 'Grid_GLM_Key_Frame__upload_a9789357483bf475fa4bb65210064d3f.hex_model_python_1593042533260_28_model_22': None, 'Grid_GLM_Key_Frame__upload_a9789357483bf475fa4bb65210064d3f.hex_model_python_1593042533260_28_model_23': None, 'Grid_GLM_Key_Frame__upload_a9789357483bf475fa4bb65210064d3f.hex_model_python_1593042533260_28_model_24': None, 'Grid_GLM_Key_Frame__upload_a9789357483bf475fa4bb65210064d3f.hex_model_python_1593042533260_28_model_26': None, 'Grid_GLM_Key_Frame__upload_a9789357483bf475fa4bb65210064d3f.hex_model_python_1593042533260_28_model_30': None, 'Grid_GLM_Key_Frame__upload_a9789357483bf475fa4bb65210064d3f.hex_model_python_1593042533260_28_model_27': None, 'Grid_GLM_Key_Frame__upload_a9789357483bf475fa4bb65210064d3f.hex_model_python_1593042533260_28_model_28': None, 'Grid_GLM_Key_Frame__upload_a9789357483bf475fa4bb65210064d3f.hex_model_python_1593042533260_28_model_29': None, 'Grid_GLM_Key_Frame__upload_a9789357483bf475fa4bb65210064d3f.hex_model_python_1593042533260_28_model_31': None, 'Grid_GLM_Key_Frame__upload_a9789357483bf475fa4bb65210064d3f.hex_model_python_1593042533260_28_model_35': None, 'Grid_GLM_Key_Frame__upload_a9789357483bf475fa4bb65210064d3f.hex_model_python_1593042533260_28_model_32': None, 'Grid_GLM_Key_Frame__upload_a9789357483bf475fa4bb65210064d3f.hex_model_python_1593042533260_28_model_33': None, 'Grid_GLM_Key_Frame__upload_a9789357483bf475fa4bb65210064d3f.hex_model_python_1593042533260_28_model_34': None, 'Grid_GLM_Key_Frame__upload_a9789357483bf475fa4bb65210064d3f.hex_model_python_1593042533260_28_model_36': None, 'Grid_GLM_Key_Frame__upload_a9789357483bf475fa4bb65210064d3f.hex_model_python_1593042533260_28_model_37': None, 'Grid_GLM_Key_Frame__upload_a9789357483bf475fa4bb65210064d3f.hex_model_python_1593042533260_28_model_38': None, 'Grid_GLM_Key_Frame__upload_a9789357483bf475fa4bb65210064d3f.hex_model_python_1593042533260_28_model_39': None, 'Grid_GLM_Key_Frame__upload_a9789357483bf475fa4bb65210064d3f.hex_model_python_1593042533260_28_model_40': None}\n"
     ]
    }
   ],
   "source": [
    "print(grid.model_performance())"
   ]
  },
  {
   "cell_type": "code",
   "execution_count": null,
   "metadata": {},
   "outputs": [],
   "source": [
    "best_model.train()"
   ]
  }
 ],
 "metadata": {
  "kernelspec": {
   "display_name": "Python 3",
   "language": "python",
   "name": "python3"
  },
  "language_info": {
   "codemirror_mode": {
    "name": "ipython",
    "version": 3
   },
   "file_extension": ".py",
   "mimetype": "text/x-python",
   "name": "python",
   "nbconvert_exporter": "python",
   "pygments_lexer": "ipython3",
   "version": "3.6.4"
  }
 },
 "nbformat": 4,
 "nbformat_minor": 2
}
